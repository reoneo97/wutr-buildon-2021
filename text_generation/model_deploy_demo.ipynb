{
 "cells": [
  {
   "cell_type": "code",
   "execution_count": 1,
   "source": [
    "import pandas as pd\r\n",
    "import torch\r\n",
    "from transformers import T5Tokenizer, T5ForConditionalGeneration,Adafactor, T5Model"
   ],
   "outputs": [],
   "metadata": {}
  },
  {
   "cell_type": "markdown",
   "source": [
    "Dependecies\r\n",
    "# !pip install transformers\r\n",
    "# !pip3 install torch \r\n",
    "# !pip install sentencepiece"
   ],
   "metadata": {}
  },
  {
   "cell_type": "code",
   "execution_count": 2,
   "source": [
    "tokenizer = T5Tokenizer.from_pretrained('t5-small')\r\n",
    "model = T5ForConditionalGeneration.from_pretrained('t5-small',\r\n",
    "                                             return_dict=True)"
   ],
   "outputs": [],
   "metadata": {}
  },
  {
   "cell_type": "code",
   "execution_count": 3,
   "source": [
    "path = 'tg_vD.pt'\r\n",
    "model.load_state_dict(torch.load(path,map_location=torch.device('cpu')))"
   ],
   "outputs": [
    {
     "output_type": "execute_result",
     "data": {
      "text/plain": [
       "<All keys matched successfully>"
      ]
     },
     "metadata": {},
     "execution_count": 3
    }
   ],
   "metadata": {}
  },
  {
   "cell_type": "code",
   "execution_count": 142,
   "source": [
    "def generate(text):\r\n",
    "  input_ids = tokenizer(text, return_tensors=\"pt\", truncation=True, padding=True).input_ids \r\n",
    "  outputs = model.generate(input_ids,do_sample=True,top_p=0.98)\r\n",
    "  gen_text=tokenizer.decode(outputs[0],skip_special_tokens=True)  \r\n",
    "  return gen_text"
   ],
   "outputs": [],
   "metadata": {}
  }
 ],
 "metadata": {
  "orig_nbformat": 4,
  "language_info": {
   "name": "python",
   "version": "3.8.5",
   "mimetype": "text/x-python",
   "codemirror_mode": {
    "name": "ipython",
    "version": 3
   },
   "pygments_lexer": "ipython3",
   "nbconvert_exporter": "python",
   "file_extension": ".py"
  },
  "kernelspec": {
   "name": "python3",
   "display_name": "Python 3.8.5 64-bit ('base': conda)"
  },
  "interpreter": {
   "hash": "5877a14315468a8ef2ba9372cd63295c6e2b27b0b7190d69106c6899c20586aa"
  }
 },
 "nbformat": 4,
 "nbformat_minor": 2
}