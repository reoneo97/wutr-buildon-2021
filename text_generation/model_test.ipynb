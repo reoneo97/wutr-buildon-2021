{
 "cells": [
  {
   "cell_type": "code",
   "execution_count": 1,
   "source": [
    "import pandas as pd\r\n",
    "import torch\r\n",
    "from transformers import T5Tokenizer, T5ForConditionalGeneration,Adafactor, T5Model"
   ],
   "outputs": [],
   "metadata": {}
  },
  {
   "cell_type": "code",
   "execution_count": 20,
   "source": [
    "df = pd.read_csv('data_cleaned.csv',index_col=0)\r\n"
   ],
   "outputs": [],
   "metadata": {}
  },
  {
   "cell_type": "code",
   "execution_count": 5,
   "source": [
    "tokenizer = T5Tokenizer.from_pretrained('t5-small')\r\n",
    "model = T5ForConditionalGeneration.from_pretrained('t5-small',\r\n",
    "                                             return_dict=True)"
   ],
   "outputs": [],
   "metadata": {}
  },
  {
   "cell_type": "code",
   "execution_count": 6,
   "source": [
    "path = 'stronks_tg.pt'\r\n",
    "model.load_state_dict(torch.load(path))"
   ],
   "outputs": [
    {
     "output_type": "execute_result",
     "data": {
      "text/plain": [
       "<All keys matched successfully>"
      ]
     },
     "metadata": {},
     "execution_count": 6
    }
   ],
   "metadata": {}
  },
  {
   "cell_type": "code",
   "execution_count": 23,
   "source": [
    "def generate(text):\r\n",
    "  model.eval()\r\n",
    "  input_ids = tokenizer.encode(text, return_tensors=\"pt\", truncation=True, padding='max_length',max_length=10)  # Batch size 1\r\n",
    "  outputs = model.generate(input_ids,max_length = 30)\r\n",
    "  gen_text=tokenizer.decode(outputs[0])  \r\n",
    "  return gen_text"
   ],
   "outputs": [],
   "metadata": {}
  },
  {
   "cell_type": "code",
   "execution_count": 24,
   "source": [
    "def sample(x):\r\n",
    "    data = df.sample(n=x)\r\n",
    "    for idx,text,des,tl,dl in data.itertuples():\r\n",
    "        print(f'Title is : {text}')\r\n",
    "        predicted = generate(text)\r\n",
    "        print('\\n')\r\n",
    "        print(f'Actual Description is {des}')\r\n",
    "        print('\\n')\r\n",
    "        print(f'Predicted Description is {predicted}')\r\n",
    "        print('\\n')\r\n",
    "        print('\\n')\r\n",
    "    return "
   ],
   "outputs": [],
   "metadata": {}
  },
  {
   "cell_type": "code",
   "execution_count": 25,
   "source": [
    "sample(5)"
   ],
   "outputs": [
    {
     "output_type": "stream",
     "name": "stdout",
     "text": [
      "Title is :  Laptop Notebook Skins Sticker Cover H981 Blue Vines (Brand New with 2 FREE touch pad decals)\n",
      "\n",
      "\n",
      "Actual Description is You will receive one brand new laptop skin, well packaged in a hard, thick paper cover which is also covered in a clear plastic bag as seen in picture above. The Package will be shipped safely inside a 100% polyethylene poly mailer.\n",
      "\n",
      "\n",
      "Predicted Description is <pad> This laptop case is a replacement for laptop users who craves an instant benefit of a</s>\n",
      "\n",
      "\n",
      "\n",
      "\n",
      "Title is : Metra 44-EC12 12-Inches Antenna Extension Cable\n",
      "\n",
      "\n",
      "Actual Description is METRA 12 FT ANTENNA EXTENSION CABLE\n",
      "\n",
      "\n",
      "Predicted Description is <pad> Metra 40-Inch High-Performance Category 6ets / Multi</s>\n",
      "\n",
      "\n",
      "\n",
      "\n",
      "Title is : TOPSELLER R500 P8400 27175GU 15.4-Inch Laptop\n",
      "\n",
      "\n",
      "Actual Description is The Lenovo ThinkPad R500 laptop is ideal for students, business professionals, or anyone in the market for an affordable laptop computer.,    \n",
      "\n",
      "\n",
      "Predicted Description is <pad> The Polaroid R400 is a 2400 series of a surprisingly large</s>\n",
      "\n",
      "\n",
      "\n",
      "\n",
      "Title is : AUDIOVOX VH603N 3' RG6 Black Coax Cable\n",
      "\n",
      "\n",
      "Actual Description is 3, RG6, black coaxial cable, with aluminum F connectors on both ends. This product is manufactured in China.\n",
      "\n",
      "\n",
      "Predicted Description is <pad> The VHS20 is a a high-resolution digital camera with a high</s>\n",
      "\n",
      "\n",
      "\n",
      "\n",
      "Title is : Smart Dual LED Nvidia SHIELD Tablet Rapid Wall Charger Kit with 6Ft. Touch Activated LED Micro-USB Cable that Only uses power when needed!\n",
      "\n",
      "\n",
      "Actual Description is Smart Dual LED Nvidia SHIELD Tablet Rapid Wall Charger Kit with 6Ft. Touch Activated LED Micro-USB Cable that Only uses power when needed!, , Using Touch and Smart Power, this will only use power when needed. Therefore conserving your phones battery life and power. ECO Friendly, and up to 20% recycled materials were used in the production of this!, \n",
      "\n",
      "\n",
      "Predicted Description is <pad> The SmartMounton SCR-Dual-Dual-Dual-</s>\n",
      "\n",
      "\n",
      "\n",
      "\n"
     ]
    }
   ],
   "metadata": {}
  }
 ],
 "metadata": {
  "orig_nbformat": 4,
  "language_info": {
   "name": "python"
  }
 },
 "nbformat": 4,
 "nbformat_minor": 2
}