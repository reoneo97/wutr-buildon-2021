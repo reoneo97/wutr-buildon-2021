{
 "cells": [
  {
   "cell_type": "code",
   "execution_count": 1,
   "source": [
    "import pandas as pd\r\n",
    "import torch\r\n",
    "from transformers import T5Tokenizer, T5ForConditionalGeneration,Adafactor, T5Model\r\n",
    "import torch\r\n",
    "import torch.nn as nn\r\n",
    "from sklearn.model_selection import train_test_split"
   ],
   "outputs": [],
   "metadata": {}
  },
  {
   "cell_type": "markdown",
   "source": [
    "##### Dependencies\n",
    "!pip install transformers\n",
    "!pip3 install torch torchvision torchaudio\n",
    "!pip install sentencepiece"
   ],
   "metadata": {}
  },
  {
   "cell_type": "code",
   "execution_count": 2,
   "source": [
    "# !pip install transformers\r\n",
    "# !pip3 install torch torchvision torchaudio\r\n",
    "# !pip install sentencepiece"
   ],
   "outputs": [],
   "metadata": {}
  },
  {
   "cell_type": "code",
   "execution_count": 3,
   "source": [
    "if torch.cuda.is_available():\r\n",
    "   dev = torch.device(\"cuda:0\")\r\n",
    "   print(\"Running on the GPU\")\r\n",
    "else:\r\n",
    "   dev = torch.device(\"cpu\")\r\n",
    "   print(\"Running on the CPU\")"
   ],
   "outputs": [
    {
     "output_type": "stream",
     "name": "stdout",
     "text": [
      "Running on the CPU\n"
     ]
    }
   ],
   "metadata": {}
  },
  {
   "cell_type": "code",
   "execution_count": 2,
   "source": [
    "tokenizer = T5Tokenizer.from_pretrained('t5-small')\r\n",
    "model = T5ForConditionalGeneration.from_pretrained('t5-small',\r\n",
    "                                             return_dict=True)\r\n",
    "optimizer = Adafactor(model.parameters(),lr=1e-3,\r\n",
    "                      eps=(1e-30, 1e-3),\r\n",
    "                      clip_threshold=1.0,\r\n",
    "                      decay_rate=-0.8,\r\n",
    "                      beta1=None,\r\n",
    "                      weight_decay=0.0,\r\n",
    "                      relative_step=False,\r\n",
    "                      scale_parameter=False,\r\n",
    "                      warmup_init=False)\r\n",
    "#model.to(dev)"
   ],
   "outputs": [],
   "metadata": {}
  },
  {
   "cell_type": "code",
   "execution_count": 3,
   "source": [
    "train_df=pd.read_csv('data_cleaned.csv',index_col=0)\r\n",
    "\r\n",
    "train_df=train_df.sample(n=3000)\r\n",
    "train_df['title']= train_df['title'].astype('str')\r\n",
    "train_df['description']= train_df['description'].astype('str')"
   ],
   "outputs": [],
   "metadata": {}
  },
  {
   "cell_type": "code",
   "execution_count": 4,
   "source": [
    "train_text, val_text, train_desc,val_desc = train_test_split(train_df['title'],train_df['description'],test_size = 0.3,random_state=1997)"
   ],
   "outputs": [],
   "metadata": {}
  },
  {
   "cell_type": "code",
   "execution_count": 5,
   "source": [
    "train__text_encodings = tokenizer(train_text.to_list(), truncation=True, padding='max_length',max_length=10)\r\n",
    "train__desc_encodings = tokenizer(train_desc.to_list(), truncation=True, padding='max_length',max_length=20)\r\n",
    "\r\n",
    "val__text_encodings = tokenizer(val_text.to_list(), truncation=True, padding='max_length',max_length=10)\r\n",
    "val__desc_encodings = tokenizer(val_desc.to_list(), truncation=True, padding='max_length',max_length=20)"
   ],
   "outputs": [],
   "metadata": {}
  },
  {
   "cell_type": "code",
   "execution_count": 6,
   "source": [
    "from torch.utils.data import TensorDataset, DataLoader\r\n",
    "\r\n",
    "train__text_seq = torch.tensor(train__text_encodings['input_ids'])\r\n",
    "train_text_mask = torch.tensor(train__text_encodings['attention_mask'])\r\n",
    "train__desc_seq = torch.tensor(train__desc_encodings['input_ids'])\r\n",
    "train_desc_mask = torch.tensor(train__desc_encodings['attention_mask'])\r\n",
    "train__text_dataset = TensorDataset(train__text_seq,train_text_mask,train__desc_seq,train_desc_mask)\r\n",
    "\r\n",
    "\r\n",
    "\r\n",
    "\r\n",
    "\r\n",
    "val__text_seq = torch.tensor(val__text_encodings['input_ids'])\r\n",
    "val_text_mask = torch.tensor(val__text_encodings['attention_mask'])\r\n",
    "val__desc_seq = torch.tensor(val__desc_encodings['input_ids'])\r\n",
    "val_desc_mask = torch.tensor(val__desc_encodings['input_ids'])\r\n",
    "\r\n",
    "\r\n",
    "\r\n",
    "train__text_loader = DataLoader(train__text_dataset, batch_size=4, shuffle=True)\r\n"
   ],
   "outputs": [],
   "metadata": {}
  },
  {
   "cell_type": "code",
   "execution_count": 14,
   "source": [
    "from IPython.display import HTML, display\r\n",
    "def progress(loss,value, max=100):\r\n",
    "    return HTML(\"\"\" Batch loss :{loss}\r\n",
    "      <progress    \r\n",
    "value='{value}'max='{max}',style='width: 100%'>{value}\r\n",
    "      </progress>\r\n",
    "             \"\"\".format(loss=loss,value=value, max=max))"
   ],
   "outputs": [],
   "metadata": {}
  },
  {
   "cell_type": "code",
   "execution_count": 7,
   "source": [
    "#Training POC\r\n",
    "\r\n",
    "\r\n",
    "model.train()\r\n",
    "num_of_epochs=3\r\n",
    "loss_per_10_steps=[]\r\n",
    "for epoch in range(1,num_of_epochs+1):\r\n",
    "    print('Running epoch: {}'.format(epoch))\r\n",
    "  \r\n",
    "    running_loss=0\r\n",
    "\r\n",
    "\r\n",
    "    for batch in train__text_loader:\r\n",
    "        text_id,text_mask,desc_id,desc_mask = batch\r\n",
    "\r\n",
    "    # clear out the gradients of all Variables \r\n",
    "        optimizer.zero_grad()\r\n",
    "\r\n",
    "    # Forward propogation\r\n",
    "        outputs = model(input_ids=text_id, labels=desc_id)\r\n",
    "        loss = outputs.loss\r\n",
    "        loss_num=loss.item()\r\n",
    "        logits = outputs.logits\r\n",
    "        running_loss+=loss_num\r\n",
    "        # if i%10 ==0:      \r\n",
    "        #     loss_per_10_steps.append(loss_num)\r\n",
    "        # out.update(progress(loss_num,i, num_of_batches+1))\r\n",
    "\r\n",
    "    # calculating the gradients\r\n",
    "        loss.backward()\r\n",
    "\r\n",
    "    #updating the params\r\n",
    "        optimizer.step()\r\n",
    "    \r\n",
    "\r\n",
    "    print('Epoch: {} , = loss: {}'.format(epoch,loss))\r\n",
    "torch.save(model.state_dict(), 'stronks_tg.pt')"
   ],
   "outputs": [
    {
     "output_type": "stream",
     "name": "stdout",
     "text": [
      "Running epoch: 1\n",
      "Epoch: 1 , = loss: 5.218601703643799\n",
      "Running epoch: 2\n",
      "Epoch: 2 , = loss: 3.2706024646759033\n",
      "Running epoch: 3\n",
      "Epoch: 3 , = loss: 3.660130262374878\n"
     ]
    }
   ],
   "metadata": {}
  },
  {
   "cell_type": "code",
   "execution_count": null,
   "source": [
    "path = 'saved_weights.pt'\r\n",
    "model.load_state_dict(torch.load(path))"
   ],
   "outputs": [],
   "metadata": {}
  }
 ],
 "metadata": {
  "kernelspec": {
   "display_name": "Python 3",
   "language": "python",
   "name": "python3"
  },
  "language_info": {
   "codemirror_mode": {
    "name": "ipython",
    "version": 3
   },
   "file_extension": ".py",
   "mimetype": "text/x-python",
   "name": "python",
   "nbconvert_exporter": "python",
   "pygments_lexer": "ipython3",
   "version": "3.8.5"
  }
 },
 "nbformat": 4,
 "nbformat_minor": 4
}