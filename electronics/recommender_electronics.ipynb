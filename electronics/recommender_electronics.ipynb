{
 "cells": [
  {
   "cell_type": "markdown",
   "source": [
    "## Two major categories of methods for recommender systems:\r\n",
    "### 1. Collaborative filtering methods\r\n",
    " - Based solely on the past interactions recorded between users and items\r\n",
    "    (e.g. rating given by a user to a movie, time spent by a reader on an article)\r\n",
    " - Memory based (works with values of recorded interactions, assuming no model, based on nearest neighbours search) and model based (assume an underlying \"generative\" model that explains the user-item interactions and try to discover it to make new predictions)\r\n",
    "\r\n",
    " - The more users interact with items, the more new recommendations become accurate\r\n",
    " - \"Cold start problem\" - impossible to recommend anything to new users/new item to users (recommend random items initially/recommend popular items to new users or new items to the most active users, etc.)\r\n",
    "\r\n",
    "\r\n",
    "\r\n",
    "### 2. Content based methods\r\n",
    " - Use additional information about users and/or items (e.g. age, sex, job, and othe personal information)\r\n",
    " \r\n",
    " - Suffer far less from the \"cold start problem\" once sufficient users in the system\r\n"
   ],
   "metadata": {}
  },
  {
   "cell_type": "code",
   "execution_count": 33,
   "source": [
    "import numpy as np\r\n",
    "import pandas as pd\r\n",
    "import torch\r\n",
    "import torch.nn as nn\r\n",
    "import torch.nn.functional as F\r\n",
    "import matplotlib.pyplot as plt\r\n",
    "from datetime import datetime\r\n",
    "\r\n",
    "from sklearn.utils import shuffle\r\n",
    "import sklearn\r\n",
    "from sklearn.decomposition import TruncatedSVD\r\n",
    "\r\n",
    "import seaborn as sns\r\n",
    "from sklearn.neighbors import KNeighborsClassifier"
   ],
   "outputs": [],
   "metadata": {}
  },
  {
   "cell_type": "code",
   "execution_count": 4,
   "source": [
    "# df = pd.read_csv(\"ratings_Electronics.csv\")\r\n",
    "\r\n",
    "# print(len(df))"
   ],
   "outputs": [
    {
     "output_type": "stream",
     "name": "stdout",
     "text": [
      "7824481\n"
     ]
    }
   ],
   "metadata": {}
  },
  {
   "cell_type": "markdown",
   "source": [
    "# Pre-processing to extract relevant information and remove duplicates"
   ],
   "metadata": {}
  },
  {
   "cell_type": "code",
   "execution_count": 9,
   "source": [
    "# give column headers\r\n",
    "df.columns = ['reviewerID','asin','overall','timestamp']\r\n",
    "\r\n",
    "# basic information about ratings\r\n",
    "df[\"overall\"].describe()"
   ],
   "outputs": [
    {
     "output_type": "execute_result",
     "data": {
      "text/plain": [
       "count    7.824481e+06\n",
       "mean     4.012337e+00\n",
       "std      1.380910e+00\n",
       "min      1.000000e+00\n",
       "25%      3.000000e+00\n",
       "50%      5.000000e+00\n",
       "75%      5.000000e+00\n",
       "max      5.000000e+00\n",
       "Name: overall, dtype: float64"
      ]
     },
     "metadata": {},
     "execution_count": 9
    }
   ],
   "metadata": {}
  },
  {
   "cell_type": "code",
   "execution_count": 10,
   "source": [
    "# no. of unique reviewers\r\n",
    "df['reviewerID'].nunique()"
   ],
   "outputs": [
    {
     "output_type": "execute_result",
     "data": {
      "text/plain": [
       "4201696"
      ]
     },
     "metadata": {},
     "execution_count": 10
    }
   ],
   "metadata": {}
  },
  {
   "cell_type": "code",
   "execution_count": 13,
   "source": [
    "# remove duplicates if any\r\n",
    "\r\n",
    "review = df.drop_duplicates(subset=['reviewerID', 'asin'], keep='last')\r\n",
    "print(len(review))"
   ],
   "outputs": [
    {
     "output_type": "stream",
     "name": "stdout",
     "text": [
      "7824481\n"
     ]
    }
   ],
   "metadata": {}
  },
  {
   "cell_type": "markdown",
   "source": [
    "# Change reviewerID and asin to numerical values and save as new csv"
   ],
   "metadata": {}
  },
  {
   "cell_type": "code",
   "execution_count": 14,
   "source": [
    "# give new_user_id based on reviewerID\r\n",
    "\r\n",
    "current_user_id = 0\r\n",
    "custom_user_map = {} \r\n",
    "def map_user_id(row):\r\n",
    "    global current_user_id, custom_user_map\r\n",
    "    old_user_id = row[\"reviewerID\"]\r\n",
    "    if old_user_id not in custom_user_map:\r\n",
    "        custom_user_map[old_user_id] = current_user_id\r\n",
    "        current_user_id += 1\r\n",
    "    return custom_user_map[old_user_id]\r\n",
    "\r\n",
    "review[\"new_user_id\"] = review.apply(map_user_id, axis=1)"
   ],
   "outputs": [],
   "metadata": {}
  },
  {
   "cell_type": "code",
   "execution_count": 15,
   "source": [
    "# give new_product_id based on asin\r\n",
    "\r\n",
    "current_product_id = 0\r\n",
    "custom_product_map = {} \r\n",
    "def map_product_id(row):\r\n",
    "    global current_product_id, custom_product_map\r\n",
    "    old_product_id = row[\"asin\"]\r\n",
    "    if old_product_id not in custom_product_map:\r\n",
    "        custom_product_map[old_product_id] = current_product_id\r\n",
    "        current_product_id += 1\r\n",
    "    return custom_product_map[old_product_id]\r\n",
    "\r\n",
    "review[\"new_product_id\"] = review.apply(map_product_id, axis=1)"
   ],
   "outputs": [],
   "metadata": {}
  },
  {
   "cell_type": "code",
   "execution_count": 16,
   "source": [
    "review.head()"
   ],
   "outputs": [
    {
     "output_type": "execute_result",
     "data": {
      "text/plain": [
       "       reviewerID        asin  overall   timestamp  new_user_id  \\\n",
       "0  A2CX7LUOHB2NDG  0321732944      5.0  1341100800            0   \n",
       "1  A2NWSAGRHCP8N5  0439886341      1.0  1367193600            1   \n",
       "2  A2WNBOD3WNDNKT  0439886341      3.0  1374451200            2   \n",
       "3  A1GI0U4ZRJA8WN  0439886341      1.0  1334707200            3   \n",
       "4  A1QGNMC6O1VW39  0511189877      5.0  1397433600            4   \n",
       "\n",
       "   new_product_id  \n",
       "0               0  \n",
       "1               1  \n",
       "2               1  \n",
       "3               1  \n",
       "4               2  "
      ],
      "text/html": [
       "<div>\n",
       "<style scoped>\n",
       "    .dataframe tbody tr th:only-of-type {\n",
       "        vertical-align: middle;\n",
       "    }\n",
       "\n",
       "    .dataframe tbody tr th {\n",
       "        vertical-align: top;\n",
       "    }\n",
       "\n",
       "    .dataframe thead th {\n",
       "        text-align: right;\n",
       "    }\n",
       "</style>\n",
       "<table border=\"1\" class=\"dataframe\">\n",
       "  <thead>\n",
       "    <tr style=\"text-align: right;\">\n",
       "      <th></th>\n",
       "      <th>reviewerID</th>\n",
       "      <th>asin</th>\n",
       "      <th>overall</th>\n",
       "      <th>timestamp</th>\n",
       "      <th>new_user_id</th>\n",
       "      <th>new_product_id</th>\n",
       "    </tr>\n",
       "  </thead>\n",
       "  <tbody>\n",
       "    <tr>\n",
       "      <th>0</th>\n",
       "      <td>A2CX7LUOHB2NDG</td>\n",
       "      <td>0321732944</td>\n",
       "      <td>5.0</td>\n",
       "      <td>1341100800</td>\n",
       "      <td>0</td>\n",
       "      <td>0</td>\n",
       "    </tr>\n",
       "    <tr>\n",
       "      <th>1</th>\n",
       "      <td>A2NWSAGRHCP8N5</td>\n",
       "      <td>0439886341</td>\n",
       "      <td>1.0</td>\n",
       "      <td>1367193600</td>\n",
       "      <td>1</td>\n",
       "      <td>1</td>\n",
       "    </tr>\n",
       "    <tr>\n",
       "      <th>2</th>\n",
       "      <td>A2WNBOD3WNDNKT</td>\n",
       "      <td>0439886341</td>\n",
       "      <td>3.0</td>\n",
       "      <td>1374451200</td>\n",
       "      <td>2</td>\n",
       "      <td>1</td>\n",
       "    </tr>\n",
       "    <tr>\n",
       "      <th>3</th>\n",
       "      <td>A1GI0U4ZRJA8WN</td>\n",
       "      <td>0439886341</td>\n",
       "      <td>1.0</td>\n",
       "      <td>1334707200</td>\n",
       "      <td>3</td>\n",
       "      <td>1</td>\n",
       "    </tr>\n",
       "    <tr>\n",
       "      <th>4</th>\n",
       "      <td>A1QGNMC6O1VW39</td>\n",
       "      <td>0511189877</td>\n",
       "      <td>5.0</td>\n",
       "      <td>1397433600</td>\n",
       "      <td>4</td>\n",
       "      <td>2</td>\n",
       "    </tr>\n",
       "  </tbody>\n",
       "</table>\n",
       "</div>"
      ]
     },
     "metadata": {},
     "execution_count": 16
    }
   ],
   "metadata": {}
  },
  {
   "cell_type": "code",
   "execution_count": 19,
   "source": [
    "review.to_csv('electronics_processed.csv')"
   ],
   "outputs": [],
   "metadata": {}
  },
  {
   "cell_type": "markdown",
   "source": [
    "# Basic information about data"
   ],
   "metadata": {}
  },
  {
   "cell_type": "markdown",
   "source": [
    "## Product popularity based recommendation system targeted at new customers - use most popular products if no information initially"
   ],
   "metadata": {}
  },
  {
   "cell_type": "code",
   "execution_count": 20,
   "source": [
    "review = pd.read_csv(\"electronics_processed.csv\")\r\n",
    "review.head()"
   ],
   "outputs": [
    {
     "output_type": "execute_result",
     "data": {
      "text/plain": [
       "   Unnamed: 0      reviewerID        asin  overall  new_user_id  \\\n",
       "0           0  A2CX7LUOHB2NDG  0321732944      5.0            0   \n",
       "1           1  A2NWSAGRHCP8N5  0439886341      1.0            1   \n",
       "2           2  A2WNBOD3WNDNKT  0439886341      3.0            2   \n",
       "3           3  A1GI0U4ZRJA8WN  0439886341      1.0            3   \n",
       "4           4  A1QGNMC6O1VW39  0511189877      5.0            4   \n",
       "\n",
       "   new_product_id  \n",
       "0               0  \n",
       "1               1  \n",
       "2               1  \n",
       "3               1  \n",
       "4               2  "
      ],
      "text/html": [
       "<div>\n",
       "<style scoped>\n",
       "    .dataframe tbody tr th:only-of-type {\n",
       "        vertical-align: middle;\n",
       "    }\n",
       "\n",
       "    .dataframe tbody tr th {\n",
       "        vertical-align: top;\n",
       "    }\n",
       "\n",
       "    .dataframe thead th {\n",
       "        text-align: right;\n",
       "    }\n",
       "</style>\n",
       "<table border=\"1\" class=\"dataframe\">\n",
       "  <thead>\n",
       "    <tr style=\"text-align: right;\">\n",
       "      <th></th>\n",
       "      <th>Unnamed: 0</th>\n",
       "      <th>reviewerID</th>\n",
       "      <th>asin</th>\n",
       "      <th>overall</th>\n",
       "      <th>new_user_id</th>\n",
       "      <th>new_product_id</th>\n",
       "    </tr>\n",
       "  </thead>\n",
       "  <tbody>\n",
       "    <tr>\n",
       "      <th>0</th>\n",
       "      <td>0</td>\n",
       "      <td>A2CX7LUOHB2NDG</td>\n",
       "      <td>0321732944</td>\n",
       "      <td>5.0</td>\n",
       "      <td>0</td>\n",
       "      <td>0</td>\n",
       "    </tr>\n",
       "    <tr>\n",
       "      <th>1</th>\n",
       "      <td>1</td>\n",
       "      <td>A2NWSAGRHCP8N5</td>\n",
       "      <td>0439886341</td>\n",
       "      <td>1.0</td>\n",
       "      <td>1</td>\n",
       "      <td>1</td>\n",
       "    </tr>\n",
       "    <tr>\n",
       "      <th>2</th>\n",
       "      <td>2</td>\n",
       "      <td>A2WNBOD3WNDNKT</td>\n",
       "      <td>0439886341</td>\n",
       "      <td>3.0</td>\n",
       "      <td>2</td>\n",
       "      <td>1</td>\n",
       "    </tr>\n",
       "    <tr>\n",
       "      <th>3</th>\n",
       "      <td>3</td>\n",
       "      <td>A1GI0U4ZRJA8WN</td>\n",
       "      <td>0439886341</td>\n",
       "      <td>1.0</td>\n",
       "      <td>3</td>\n",
       "      <td>1</td>\n",
       "    </tr>\n",
       "    <tr>\n",
       "      <th>4</th>\n",
       "      <td>4</td>\n",
       "      <td>A1QGNMC6O1VW39</td>\n",
       "      <td>0511189877</td>\n",
       "      <td>5.0</td>\n",
       "      <td>4</td>\n",
       "      <td>2</td>\n",
       "    </tr>\n",
       "  </tbody>\n",
       "</table>\n",
       "</div>"
      ]
     },
     "metadata": {},
     "execution_count": 20
    }
   ],
   "metadata": {}
  },
  {
   "cell_type": "code",
   "execution_count": 64,
   "source": [
    "review[review.asin == \"B0074BW614\"]"
   ],
   "outputs": [
    {
     "output_type": "execute_result",
     "data": {
      "text/plain": [
       "         Unnamed: 0      reviewerID        asin  overall  new_user_id  \\\n",
       "5592209     5592209  A3501BQE45OX22  B0074BW614      4.0      3214509   \n",
       "5592210     5592210  A2JOZUUH1FKZA5  B0074BW614      5.0      3214510   \n",
       "5592211     5592211  A2SMTNHD4IY85U  B0074BW614      5.0      3214511   \n",
       "5592212     5592212  A3HJD8GP1IAE7Y  B0074BW614      5.0      3214512   \n",
       "5592213     5592213   AS1Y9OT3RCV86  B0074BW614      4.0      3214513   \n",
       "...             ...             ...         ...      ...          ...   \n",
       "5610448     5610448  A1B4G23001KWR0  B0074BW614      5.0      3226085   \n",
       "5610449     5610449  A3QJKMPEJWX01W  B0074BW614      5.0      3117644   \n",
       "5610450     5610450  A3Q09YAW0CGXPC  B0074BW614      4.0      3226086   \n",
       "5610451     5610451  A1O3D41S3NAVTZ  B0074BW614      5.0      3226087   \n",
       "5610452     5610452  A3FVH4T8UE2PHD  B0074BW614      5.0      3123925   \n",
       "\n",
       "         new_product_id  \n",
       "5592209          308397  \n",
       "5592210          308397  \n",
       "5592211          308397  \n",
       "5592212          308397  \n",
       "5592213          308397  \n",
       "...                 ...  \n",
       "5610448          308397  \n",
       "5610449          308397  \n",
       "5610450          308397  \n",
       "5610451          308397  \n",
       "5610452          308397  \n",
       "\n",
       "[18244 rows x 6 columns]"
      ],
      "text/html": [
       "<div>\n",
       "<style scoped>\n",
       "    .dataframe tbody tr th:only-of-type {\n",
       "        vertical-align: middle;\n",
       "    }\n",
       "\n",
       "    .dataframe tbody tr th {\n",
       "        vertical-align: top;\n",
       "    }\n",
       "\n",
       "    .dataframe thead th {\n",
       "        text-align: right;\n",
       "    }\n",
       "</style>\n",
       "<table border=\"1\" class=\"dataframe\">\n",
       "  <thead>\n",
       "    <tr style=\"text-align: right;\">\n",
       "      <th></th>\n",
       "      <th>Unnamed: 0</th>\n",
       "      <th>reviewerID</th>\n",
       "      <th>asin</th>\n",
       "      <th>overall</th>\n",
       "      <th>new_user_id</th>\n",
       "      <th>new_product_id</th>\n",
       "    </tr>\n",
       "  </thead>\n",
       "  <tbody>\n",
       "    <tr>\n",
       "      <th>5592209</th>\n",
       "      <td>5592209</td>\n",
       "      <td>A3501BQE45OX22</td>\n",
       "      <td>B0074BW614</td>\n",
       "      <td>4.0</td>\n",
       "      <td>3214509</td>\n",
       "      <td>308397</td>\n",
       "    </tr>\n",
       "    <tr>\n",
       "      <th>5592210</th>\n",
       "      <td>5592210</td>\n",
       "      <td>A2JOZUUH1FKZA5</td>\n",
       "      <td>B0074BW614</td>\n",
       "      <td>5.0</td>\n",
       "      <td>3214510</td>\n",
       "      <td>308397</td>\n",
       "    </tr>\n",
       "    <tr>\n",
       "      <th>5592211</th>\n",
       "      <td>5592211</td>\n",
       "      <td>A2SMTNHD4IY85U</td>\n",
       "      <td>B0074BW614</td>\n",
       "      <td>5.0</td>\n",
       "      <td>3214511</td>\n",
       "      <td>308397</td>\n",
       "    </tr>\n",
       "    <tr>\n",
       "      <th>5592212</th>\n",
       "      <td>5592212</td>\n",
       "      <td>A3HJD8GP1IAE7Y</td>\n",
       "      <td>B0074BW614</td>\n",
       "      <td>5.0</td>\n",
       "      <td>3214512</td>\n",
       "      <td>308397</td>\n",
       "    </tr>\n",
       "    <tr>\n",
       "      <th>5592213</th>\n",
       "      <td>5592213</td>\n",
       "      <td>AS1Y9OT3RCV86</td>\n",
       "      <td>B0074BW614</td>\n",
       "      <td>4.0</td>\n",
       "      <td>3214513</td>\n",
       "      <td>308397</td>\n",
       "    </tr>\n",
       "    <tr>\n",
       "      <th>...</th>\n",
       "      <td>...</td>\n",
       "      <td>...</td>\n",
       "      <td>...</td>\n",
       "      <td>...</td>\n",
       "      <td>...</td>\n",
       "      <td>...</td>\n",
       "    </tr>\n",
       "    <tr>\n",
       "      <th>5610448</th>\n",
       "      <td>5610448</td>\n",
       "      <td>A1B4G23001KWR0</td>\n",
       "      <td>B0074BW614</td>\n",
       "      <td>5.0</td>\n",
       "      <td>3226085</td>\n",
       "      <td>308397</td>\n",
       "    </tr>\n",
       "    <tr>\n",
       "      <th>5610449</th>\n",
       "      <td>5610449</td>\n",
       "      <td>A3QJKMPEJWX01W</td>\n",
       "      <td>B0074BW614</td>\n",
       "      <td>5.0</td>\n",
       "      <td>3117644</td>\n",
       "      <td>308397</td>\n",
       "    </tr>\n",
       "    <tr>\n",
       "      <th>5610450</th>\n",
       "      <td>5610450</td>\n",
       "      <td>A3Q09YAW0CGXPC</td>\n",
       "      <td>B0074BW614</td>\n",
       "      <td>4.0</td>\n",
       "      <td>3226086</td>\n",
       "      <td>308397</td>\n",
       "    </tr>\n",
       "    <tr>\n",
       "      <th>5610451</th>\n",
       "      <td>5610451</td>\n",
       "      <td>A1O3D41S3NAVTZ</td>\n",
       "      <td>B0074BW614</td>\n",
       "      <td>5.0</td>\n",
       "      <td>3226087</td>\n",
       "      <td>308397</td>\n",
       "    </tr>\n",
       "    <tr>\n",
       "      <th>5610452</th>\n",
       "      <td>5610452</td>\n",
       "      <td>A3FVH4T8UE2PHD</td>\n",
       "      <td>B0074BW614</td>\n",
       "      <td>5.0</td>\n",
       "      <td>3123925</td>\n",
       "      <td>308397</td>\n",
       "    </tr>\n",
       "  </tbody>\n",
       "</table>\n",
       "<p>18244 rows × 6 columns</p>\n",
       "</div>"
      ]
     },
     "metadata": {},
     "execution_count": 64
    }
   ],
   "metadata": {}
  },
  {
   "cell_type": "code",
   "execution_count": 21,
   "source": [
    "# most popular products and their average ratings\r\n",
    "\r\n",
    "popular_products = pd.DataFrame(review.groupby('asin')['overall'].count())\r\n",
    "popular_products_ratings = pd.DataFrame(review.groupby('asin')['overall'].mean())\r\n",
    "popular_products[\"average_ratings\"] = popular_products_ratings[\"overall\"]\r\n",
    "most_popular = popular_products.sort_values('overall', ascending=False)\r\n",
    "most_popular.head(10)"
   ],
   "outputs": [
    {
     "output_type": "execute_result",
     "data": {
      "text/plain": [
       "            overall  average_ratings\n",
       "asin                                \n",
       "B0074BW614    18244         4.491504\n",
       "B00DR0PDNE    16454         3.931020\n",
       "B007WTAJTO    14172         4.424005\n",
       "B0019EHU8G    12285         4.754497\n",
       "B006GWO5WK    12226         4.314657\n",
       "B003ELYQGG    11617         4.392528\n",
       "B003ES5ZUU    10276         4.704749\n",
       "B007R5YDYA     9907         4.690926\n",
       "B00622AG6S     9823         4.420136\n",
       "B0002L5R78     9487         4.448614"
      ],
      "text/html": [
       "<div>\n",
       "<style scoped>\n",
       "    .dataframe tbody tr th:only-of-type {\n",
       "        vertical-align: middle;\n",
       "    }\n",
       "\n",
       "    .dataframe tbody tr th {\n",
       "        vertical-align: top;\n",
       "    }\n",
       "\n",
       "    .dataframe thead th {\n",
       "        text-align: right;\n",
       "    }\n",
       "</style>\n",
       "<table border=\"1\" class=\"dataframe\">\n",
       "  <thead>\n",
       "    <tr style=\"text-align: right;\">\n",
       "      <th></th>\n",
       "      <th>overall</th>\n",
       "      <th>average_ratings</th>\n",
       "    </tr>\n",
       "    <tr>\n",
       "      <th>asin</th>\n",
       "      <th></th>\n",
       "      <th></th>\n",
       "    </tr>\n",
       "  </thead>\n",
       "  <tbody>\n",
       "    <tr>\n",
       "      <th>B0074BW614</th>\n",
       "      <td>18244</td>\n",
       "      <td>4.491504</td>\n",
       "    </tr>\n",
       "    <tr>\n",
       "      <th>B00DR0PDNE</th>\n",
       "      <td>16454</td>\n",
       "      <td>3.931020</td>\n",
       "    </tr>\n",
       "    <tr>\n",
       "      <th>B007WTAJTO</th>\n",
       "      <td>14172</td>\n",
       "      <td>4.424005</td>\n",
       "    </tr>\n",
       "    <tr>\n",
       "      <th>B0019EHU8G</th>\n",
       "      <td>12285</td>\n",
       "      <td>4.754497</td>\n",
       "    </tr>\n",
       "    <tr>\n",
       "      <th>B006GWO5WK</th>\n",
       "      <td>12226</td>\n",
       "      <td>4.314657</td>\n",
       "    </tr>\n",
       "    <tr>\n",
       "      <th>B003ELYQGG</th>\n",
       "      <td>11617</td>\n",
       "      <td>4.392528</td>\n",
       "    </tr>\n",
       "    <tr>\n",
       "      <th>B003ES5ZUU</th>\n",
       "      <td>10276</td>\n",
       "      <td>4.704749</td>\n",
       "    </tr>\n",
       "    <tr>\n",
       "      <th>B007R5YDYA</th>\n",
       "      <td>9907</td>\n",
       "      <td>4.690926</td>\n",
       "    </tr>\n",
       "    <tr>\n",
       "      <th>B00622AG6S</th>\n",
       "      <td>9823</td>\n",
       "      <td>4.420136</td>\n",
       "    </tr>\n",
       "    <tr>\n",
       "      <th>B0002L5R78</th>\n",
       "      <td>9487</td>\n",
       "      <td>4.448614</td>\n",
       "    </tr>\n",
       "  </tbody>\n",
       "</table>\n",
       "</div>"
      ]
     },
     "metadata": {},
     "execution_count": 21
    }
   ],
   "metadata": {}
  },
  {
   "cell_type": "code",
   "execution_count": 22,
   "source": [
    "most_popular.head(30).plot(kind = \"bar\")"
   ],
   "outputs": [
    {
     "output_type": "execute_result",
     "data": {
      "text/plain": [
       "<AxesSubplot:xlabel='asin'>"
      ]
     },
     "metadata": {},
     "execution_count": 22
    },
    {
     "output_type": "display_data",
     "data": {
      "text/plain": [
       "<Figure size 432x288 with 1 Axes>"
      ],
      "image/png": "[encoded data removed]"
     },
     "metadata": {
      "needs_background": "light"
     }
    }
   ],
   "metadata": {}
  },
  {
   "cell_type": "markdown",
   "source": [
    "# Further data exploration"
   ],
   "metadata": {}
  },
  {
   "cell_type": "markdown",
   "source": [
    "## Recomend similar items based on count, rating, and unreliability factor (k-nearest neighbors) - Memory based"
   ],
   "metadata": {}
  },
  {
   "cell_type": "code",
   "execution_count": 92,
   "source": [
    "product_rating = review.groupby('new_product_id')['overall'].mean()\r\n",
    "product_rating.head()"
   ],
   "outputs": [
    {
     "output_type": "execute_result",
     "data": {
      "text/plain": [
       "new_product_id\n",
       "0    5.000000\n",
       "1    1.666667\n",
       "2    4.500000\n",
       "3    2.851852\n",
       "4    3.000000\n",
       "Name: overall, dtype: float64"
      ]
     },
     "metadata": {},
     "execution_count": 92
    }
   ],
   "metadata": {}
  },
  {
   "cell_type": "code",
   "execution_count": 88,
   "source": [
    "# figure to show proportion for each rating\r\n",
    "sns.set(rc={'figure.figsize': (10, 6)})\r\n",
    "sns.set_style('whitegrid')\r\n",
    "ax = sns.countplot(x='overall', data=review, palette=sns.color_palette('Greys'))\r\n",
    "ax.set(xlabel='Rating', ylabel='Count')\r\n",
    "plt.show()"
   ],
   "outputs": [
    {
     "output_type": "display_data",
     "data": {
      "text/plain": [
       "<Figure size 720x432 with 1 Axes>"
      ],
      "image/png": "[encoded data removed]"
     },
     "metadata": {}
    }
   ],
   "metadata": {}
  },
  {
   "cell_type": "code",
   "execution_count": 89,
   "source": [
    "# Count of the number of ratings per Product\r\n",
    "\r\n",
    "product_rating_count = review.groupby('new_product_id')['overall'].count()\r\n",
    "ax = sns.kdeplot(product_rating_count, shade=True, color='grey')\r\n",
    "plt.show()"
   ],
   "outputs": [
    {
     "output_type": "display_data",
     "data": {
      "text/plain": [
       "<Figure size 720x432 with 1 Axes>"
      ],
      "image/png": "[encoded data removed]"
     },
     "metadata": {}
    }
   ],
   "metadata": {}
  },
  {
   "cell_type": "code",
   "execution_count": 90,
   "source": [
    "# Un-Reliability factor\r\n",
    "\r\n",
    "unreliability = review.groupby('new_product_id')['overall'].std(ddof = -1)\r\n",
    "ax = sns.kdeplot(unreliability, shade=True, color='grey')\r\n",
    "plt.show()"
   ],
   "outputs": [
    {
     "output_type": "display_data",
     "data": {
      "text/plain": [
       "<Figure size 720x432 with 1 Axes>"
      ],
      "image/png": "[encoded data removed]"
     },
     "metadata": {}
    }
   ],
   "metadata": {}
  },
  {
   "cell_type": "code",
   "execution_count": 94,
   "source": [
    "unique_products_list = review.new_product_id.unique()\r\n",
    "data_model = pd.DataFrame({'rating': product_rating[unique_products_list],\\\r\n",
    "                           'count': product_rating_count[unique_products_list], \\\r\n",
    "                          'unreliability': unreliability[unique_products_list]})\r\n",
    "data_model.head()"
   ],
   "outputs": [
    {
     "output_type": "execute_result",
     "data": {
      "text/plain": [
       "                  rating  count  unreliability\n",
       "new_product_id                                \n",
       "0               5.000000      1       0.000000\n",
       "1               1.666667      3       0.816497\n",
       "2               4.500000      6       1.035098\n",
       "3               2.851852     27       1.619164\n",
       "4               3.000000      1       0.000000"
      ],
      "text/html": [
       "<div>\n",
       "<style scoped>\n",
       "    .dataframe tbody tr th:only-of-type {\n",
       "        vertical-align: middle;\n",
       "    }\n",
       "\n",
       "    .dataframe tbody tr th {\n",
       "        vertical-align: top;\n",
       "    }\n",
       "\n",
       "    .dataframe thead th {\n",
       "        text-align: right;\n",
       "    }\n",
       "</style>\n",
       "<table border=\"1\" class=\"dataframe\">\n",
       "  <thead>\n",
       "    <tr style=\"text-align: right;\">\n",
       "      <th></th>\n",
       "      <th>rating</th>\n",
       "      <th>count</th>\n",
       "      <th>unreliability</th>\n",
       "    </tr>\n",
       "    <tr>\n",
       "      <th>new_product_id</th>\n",
       "      <th></th>\n",
       "      <th></th>\n",
       "      <th></th>\n",
       "    </tr>\n",
       "  </thead>\n",
       "  <tbody>\n",
       "    <tr>\n",
       "      <th>0</th>\n",
       "      <td>5.000000</td>\n",
       "      <td>1</td>\n",
       "      <td>0.000000</td>\n",
       "    </tr>\n",
       "    <tr>\n",
       "      <th>1</th>\n",
       "      <td>1.666667</td>\n",
       "      <td>3</td>\n",
       "      <td>0.816497</td>\n",
       "    </tr>\n",
       "    <tr>\n",
       "      <th>2</th>\n",
       "      <td>4.500000</td>\n",
       "      <td>6</td>\n",
       "      <td>1.035098</td>\n",
       "    </tr>\n",
       "    <tr>\n",
       "      <th>3</th>\n",
       "      <td>2.851852</td>\n",
       "      <td>27</td>\n",
       "      <td>1.619164</td>\n",
       "    </tr>\n",
       "    <tr>\n",
       "      <th>4</th>\n",
       "      <td>3.000000</td>\n",
       "      <td>1</td>\n",
       "      <td>0.000000</td>\n",
       "    </tr>\n",
       "  </tbody>\n",
       "</table>\n",
       "</div>"
      ]
     },
     "metadata": {},
     "execution_count": 94
    }
   ],
   "metadata": {}
  },
  {
   "cell_type": "code",
   "execution_count": 95,
   "source": [
    "data_model.shape"
   ],
   "outputs": [
    {
     "output_type": "execute_result",
     "data": {
      "text/plain": [
       "(476001, 3)"
      ]
     },
     "metadata": {},
     "execution_count": 95
    }
   ],
   "metadata": {}
  },
  {
   "cell_type": "code",
   "execution_count": 96,
   "source": [
    "data_model[\"count\"].describe()"
   ],
   "outputs": [
    {
     "output_type": "execute_result",
     "data": {
      "text/plain": [
       "count    476001.000000\n",
       "mean         16.437951\n",
       "std         112.702749\n",
       "min           1.000000\n",
       "25%           1.000000\n",
       "50%           2.000000\n",
       "75%           7.000000\n",
       "max       18244.000000\n",
       "Name: count, dtype: float64"
      ]
     },
     "metadata": {},
     "execution_count": 96
    }
   ],
   "metadata": {}
  },
  {
   "cell_type": "code",
   "execution_count": 127,
   "source": [
    "data_model_new = data_model[data_model[\"count\"] > 10].copy()\r\n",
    "print(data_model_new.shape)"
   ],
   "outputs": [
    {
     "output_type": "stream",
     "name": "stdout",
     "text": [
      "(90897, 3)\n"
     ]
    }
   ],
   "metadata": {}
  },
  {
   "cell_type": "code",
   "execution_count": 128,
   "source": [
    "# Normalization function to range 0 - 10\r\n",
    "\r\n",
    "def normalize(values):\r\n",
    "    mn = values.min()\r\n",
    "    mx = values.max()\r\n",
    "    return(10.0/(mx - mn) * (values - mx)+10)"
   ],
   "outputs": [],
   "metadata": {}
  },
  {
   "cell_type": "code",
   "execution_count": 129,
   "source": [
    "data_model_norm = normalize(data_model_new)\r\n",
    "data_model_norm.head()"
   ],
   "outputs": [
    {
     "output_type": "execute_result",
     "data": {
      "text/plain": [
       "                  rating     count  unreliability\n",
       "new_product_id                                   \n",
       "3               4.629630  0.008775       8.344982\n",
       "10              8.833333  0.002194       5.110753\n",
       "17              8.392857  0.001645       6.129190\n",
       "20              8.064516  0.010969       6.273896\n",
       "21              8.461538  0.001097       6.323741"
      ],
      "text/html": [
       "<div>\n",
       "<style scoped>\n",
       "    .dataframe tbody tr th:only-of-type {\n",
       "        vertical-align: middle;\n",
       "    }\n",
       "\n",
       "    .dataframe tbody tr th {\n",
       "        vertical-align: top;\n",
       "    }\n",
       "\n",
       "    .dataframe thead th {\n",
       "        text-align: right;\n",
       "    }\n",
       "</style>\n",
       "<table border=\"1\" class=\"dataframe\">\n",
       "  <thead>\n",
       "    <tr style=\"text-align: right;\">\n",
       "      <th></th>\n",
       "      <th>rating</th>\n",
       "      <th>count</th>\n",
       "      <th>unreliability</th>\n",
       "    </tr>\n",
       "    <tr>\n",
       "      <th>new_product_id</th>\n",
       "      <th></th>\n",
       "      <th></th>\n",
       "      <th></th>\n",
       "    </tr>\n",
       "  </thead>\n",
       "  <tbody>\n",
       "    <tr>\n",
       "      <th>3</th>\n",
       "      <td>4.629630</td>\n",
       "      <td>0.008775</td>\n",
       "      <td>8.344982</td>\n",
       "    </tr>\n",
       "    <tr>\n",
       "      <th>10</th>\n",
       "      <td>8.833333</td>\n",
       "      <td>0.002194</td>\n",
       "      <td>5.110753</td>\n",
       "    </tr>\n",
       "    <tr>\n",
       "      <th>17</th>\n",
       "      <td>8.392857</td>\n",
       "      <td>0.001645</td>\n",
       "      <td>6.129190</td>\n",
       "    </tr>\n",
       "    <tr>\n",
       "      <th>20</th>\n",
       "      <td>8.064516</td>\n",
       "      <td>0.010969</td>\n",
       "      <td>6.273896</td>\n",
       "    </tr>\n",
       "    <tr>\n",
       "      <th>21</th>\n",
       "      <td>8.461538</td>\n",
       "      <td>0.001097</td>\n",
       "      <td>6.323741</td>\n",
       "    </tr>\n",
       "  </tbody>\n",
       "</table>\n",
       "</div>"
      ]
     },
     "metadata": {},
     "execution_count": 129
    }
   ],
   "metadata": {}
  },
  {
   "cell_type": "code",
   "execution_count": 169,
   "source": [
    "# Setting up the model\r\n",
    "\r\n",
    "# Recommend 10 similar items\r\n",
    "engine = KNeighborsClassifier(n_neighbors=10)\r\n",
    "\r\n",
    "# Training data points\r\n",
    "data_points = data_model_norm[['count', 'rating', 'unreliability']].values\r\n",
    "\r\n",
    "#Training labels\r\n",
    "labels = data_model_norm.index.values\r\n",
    "\r\n",
    "print(\"Data points: \")\r\n",
    "print(data_points)\r\n",
    "print(\"Labels: \")\r\n",
    "print(labels)\r\n",
    "\r\n",
    "engine.fit(data_points, labels)"
   ],
   "outputs": [
    {
     "output_type": "stream",
     "name": "stdout",
     "text": [
      "Data points: \n",
      "[[8.77529754e-03 4.62962963e+00 8.34498194e+00]\n",
      " [2.19382438e-03 8.83333333e+00 5.11075255e+00]\n",
      " [1.64536829e-03 8.39285714e+00 6.12918953e+00]\n",
      " ...\n",
      " [1.64536829e-03 8.03571429e+00 5.70152966e+00]\n",
      " [2.19382438e-03 8.00000000e+00 4.53717285e+00]\n",
      " [2.19382438e-03 7.50000000e+00 6.04346238e+00]]\n",
      "Labels: \n",
      "[     3     10     17 ... 475879 475895 475999]\n"
     ]
    },
    {
     "output_type": "execute_result",
     "data": {
      "text/plain": [
       "KNeighborsClassifier(n_neighbors=10)"
      ]
     },
     "metadata": {},
     "execution_count": 169
    }
   ],
   "metadata": {}
  },
  {
   "cell_type": "code",
   "execution_count": 170,
   "source": [
    "# Enter product ID to get a list of 10 recommended items\r\n",
    "\r\n",
    "# User entered value\r\n",
    "product_id = 335458\r\n",
    "\r\n",
    "product_data = [data_model_norm.loc[product_id][['count', 'rating', 'unreliability']].values]\r\n",
    "\r\n",
    "recommended_products = engine.kneighbors(X=product_data, n_neighbors=10, return_distance=False)\r\n",
    "\r\n",
    "# List of product IDs form the indexes\r\n",
    "\r\n",
    "products_list = []\r\n",
    "\r\n",
    "for each in recommended_products:\r\n",
    "    products_list.append(data_model_norm.iloc[each].index)\r\n",
    "\r\n",
    "print(\"Recommended products: \")\r\n",
    "print(products_list)"
   ],
   "outputs": [
    {
     "output_type": "stream",
     "name": "stdout",
     "text": [
      "Recommended products: \n",
      "[Int64Index([335458, 422455, 84705, 310924, 170288, 85339, 132840, 55601,\n",
      "            285515, 419966],\n",
      "           dtype='int64', name='new_product_id')]\n"
     ]
    }
   ],
   "metadata": {}
  },
  {
   "cell_type": "code",
   "execution_count": 171,
   "source": [
    "items = review[review['new_product_id'].isin(products_list[0])]\r\n",
    "items = items.drop_duplicates(subset=['asin'], keep='last')\r\n",
    "items.sort_values(by=['new_product_id'])"
   ],
   "outputs": [
    {
     "output_type": "execute_result",
     "data": {
      "text/plain": [
       "         Unnamed: 0      reviewerID        asin  overall  new_user_id  \\\n",
       "944993       944993   AQRCB1KHUKZMD  B000FNH1MC      5.0       717978   \n",
       "1478190     1478190  A3PIVVHEH443CH  B000WBJDUA      3.0       558407   \n",
       "1492721     1492721  A24O9H28AU1I5A  B000WMOIIQ      5.0      1067477   \n",
       "2410576     2410576  A1LY17RQR0A89S  B0021QNDTG      1.0      1607243   \n",
       "3118965     3118965  A2Y6PFM4U7602H  B0037AGZIG      3.0      1991110   \n",
       "5202332     5202332  A15FT8NU57TTI2  B005UI6V1E      1.0       702297   \n",
       "5666825     5666825   AZDT5WJKXP7O7  B0078J7H5M      4.0      3252254   \n",
       "6081766     6081766  A3KKC1IB9ZOI3J  B0085VHQHQ      5.0      3440658   \n",
       "7315437     7315437  A2NIWHHOAXZT98  B00CTKS97K      5.0      3438554   \n",
       "7343474     7343474  A2O7RD8T0IAK4N  B00D1O5U84      2.0      2811575   \n",
       "\n",
       "         new_product_id  \n",
       "944993            55601  \n",
       "1478190           84705  \n",
       "1492721           85339  \n",
       "2410576          132840  \n",
       "3118965          170288  \n",
       "5202332          285515  \n",
       "5666825          310924  \n",
       "6081766          335458  \n",
       "7315437          419966  \n",
       "7343474          422455  "
      ],
      "text/html": [
       "<div>\n",
       "<style scoped>\n",
       "    .dataframe tbody tr th:only-of-type {\n",
       "        vertical-align: middle;\n",
       "    }\n",
       "\n",
       "    .dataframe tbody tr th {\n",
       "        vertical-align: top;\n",
       "    }\n",
       "\n",
       "    .dataframe thead th {\n",
       "        text-align: right;\n",
       "    }\n",
       "</style>\n",
       "<table border=\"1\" class=\"dataframe\">\n",
       "  <thead>\n",
       "    <tr style=\"text-align: right;\">\n",
       "      <th></th>\n",
       "      <th>Unnamed: 0</th>\n",
       "      <th>reviewerID</th>\n",
       "      <th>asin</th>\n",
       "      <th>overall</th>\n",
       "      <th>new_user_id</th>\n",
       "      <th>new_product_id</th>\n",
       "    </tr>\n",
       "  </thead>\n",
       "  <tbody>\n",
       "    <tr>\n",
       "      <th>944993</th>\n",
       "      <td>944993</td>\n",
       "      <td>AQRCB1KHUKZMD</td>\n",
       "      <td>B000FNH1MC</td>\n",
       "      <td>5.0</td>\n",
       "      <td>717978</td>\n",
       "      <td>55601</td>\n",
       "    </tr>\n",
       "    <tr>\n",
       "      <th>1478190</th>\n",
       "      <td>1478190</td>\n",
       "      <td>A3PIVVHEH443CH</td>\n",
       "      <td>B000WBJDUA</td>\n",
       "      <td>3.0</td>\n",
       "      <td>558407</td>\n",
       "      <td>84705</td>\n",
       "    </tr>\n",
       "    <tr>\n",
       "      <th>1492721</th>\n",
       "      <td>1492721</td>\n",
       "      <td>A24O9H28AU1I5A</td>\n",
       "      <td>B000WMOIIQ</td>\n",
       "      <td>5.0</td>\n",
       "      <td>1067477</td>\n",
       "      <td>85339</td>\n",
       "    </tr>\n",
       "    <tr>\n",
       "      <th>2410576</th>\n",
       "      <td>2410576</td>\n",
       "      <td>A1LY17RQR0A89S</td>\n",
       "      <td>B0021QNDTG</td>\n",
       "      <td>1.0</td>\n",
       "      <td>1607243</td>\n",
       "      <td>132840</td>\n",
       "    </tr>\n",
       "    <tr>\n",
       "      <th>3118965</th>\n",
       "      <td>3118965</td>\n",
       "      <td>A2Y6PFM4U7602H</td>\n",
       "      <td>B0037AGZIG</td>\n",
       "      <td>3.0</td>\n",
       "      <td>1991110</td>\n",
       "      <td>170288</td>\n",
       "    </tr>\n",
       "    <tr>\n",
       "      <th>5202332</th>\n",
       "      <td>5202332</td>\n",
       "      <td>A15FT8NU57TTI2</td>\n",
       "      <td>B005UI6V1E</td>\n",
       "      <td>1.0</td>\n",
       "      <td>702297</td>\n",
       "      <td>285515</td>\n",
       "    </tr>\n",
       "    <tr>\n",
       "      <th>5666825</th>\n",
       "      <td>5666825</td>\n",
       "      <td>AZDT5WJKXP7O7</td>\n",
       "      <td>B0078J7H5M</td>\n",
       "      <td>4.0</td>\n",
       "      <td>3252254</td>\n",
       "      <td>310924</td>\n",
       "    </tr>\n",
       "    <tr>\n",
       "      <th>6081766</th>\n",
       "      <td>6081766</td>\n",
       "      <td>A3KKC1IB9ZOI3J</td>\n",
       "      <td>B0085VHQHQ</td>\n",
       "      <td>5.0</td>\n",
       "      <td>3440658</td>\n",
       "      <td>335458</td>\n",
       "    </tr>\n",
       "    <tr>\n",
       "      <th>7315437</th>\n",
       "      <td>7315437</td>\n",
       "      <td>A2NIWHHOAXZT98</td>\n",
       "      <td>B00CTKS97K</td>\n",
       "      <td>5.0</td>\n",
       "      <td>3438554</td>\n",
       "      <td>419966</td>\n",
       "    </tr>\n",
       "    <tr>\n",
       "      <th>7343474</th>\n",
       "      <td>7343474</td>\n",
       "      <td>A2O7RD8T0IAK4N</td>\n",
       "      <td>B00D1O5U84</td>\n",
       "      <td>2.0</td>\n",
       "      <td>2811575</td>\n",
       "      <td>422455</td>\n",
       "    </tr>\n",
       "  </tbody>\n",
       "</table>\n",
       "</div>"
      ]
     },
     "metadata": {},
     "execution_count": 171
    }
   ],
   "metadata": {}
  },
  {
   "cell_type": "markdown",
   "source": [
    "## Matrix Factorization using Surprise to predict ratings - Model based"
   ],
   "metadata": {}
  },
  {
   "cell_type": "code",
   "execution_count": 181,
   "source": [
    "from surprise import SVD\r\n",
    "from surprise import Dataset\r\n",
    "from surprise import Reader\r\n",
    "from surprise.model_selection import cross_validate"
   ],
   "outputs": [],
   "metadata": {}
  },
  {
   "cell_type": "code",
   "execution_count": 212,
   "source": [
    "df = pd.read_csv(\"electronics_processed.csv\")\r\n",
    "to_read = df[[\"reviewerID\", \"asin\", \"overall\"]]\r\n",
    "to_read.head()"
   ],
   "outputs": [
    {
     "output_type": "execute_result",
     "data": {
      "text/plain": [
       "       reviewerID        asin  overall\n",
       "0  A2CX7LUOHB2NDG  0321732944      5.0\n",
       "1  A2NWSAGRHCP8N5  0439886341      1.0\n",
       "2  A2WNBOD3WNDNKT  0439886341      3.0\n",
       "3  A1GI0U4ZRJA8WN  0439886341      1.0\n",
       "4  A1QGNMC6O1VW39  0511189877      5.0"
      ],
      "text/html": [
       "<div>\n",
       "<style scoped>\n",
       "    .dataframe tbody tr th:only-of-type {\n",
       "        vertical-align: middle;\n",
       "    }\n",
       "\n",
       "    .dataframe tbody tr th {\n",
       "        vertical-align: top;\n",
       "    }\n",
       "\n",
       "    .dataframe thead th {\n",
       "        text-align: right;\n",
       "    }\n",
       "</style>\n",
       "<table border=\"1\" class=\"dataframe\">\n",
       "  <thead>\n",
       "    <tr style=\"text-align: right;\">\n",
       "      <th></th>\n",
       "      <th>reviewerID</th>\n",
       "      <th>asin</th>\n",
       "      <th>overall</th>\n",
       "    </tr>\n",
       "  </thead>\n",
       "  <tbody>\n",
       "    <tr>\n",
       "      <th>0</th>\n",
       "      <td>A2CX7LUOHB2NDG</td>\n",
       "      <td>0321732944</td>\n",
       "      <td>5.0</td>\n",
       "    </tr>\n",
       "    <tr>\n",
       "      <th>1</th>\n",
       "      <td>A2NWSAGRHCP8N5</td>\n",
       "      <td>0439886341</td>\n",
       "      <td>1.0</td>\n",
       "    </tr>\n",
       "    <tr>\n",
       "      <th>2</th>\n",
       "      <td>A2WNBOD3WNDNKT</td>\n",
       "      <td>0439886341</td>\n",
       "      <td>3.0</td>\n",
       "    </tr>\n",
       "    <tr>\n",
       "      <th>3</th>\n",
       "      <td>A1GI0U4ZRJA8WN</td>\n",
       "      <td>0439886341</td>\n",
       "      <td>1.0</td>\n",
       "    </tr>\n",
       "    <tr>\n",
       "      <th>4</th>\n",
       "      <td>A1QGNMC6O1VW39</td>\n",
       "      <td>0511189877</td>\n",
       "      <td>5.0</td>\n",
       "    </tr>\n",
       "  </tbody>\n",
       "</table>\n",
       "</div>"
      ]
     },
     "metadata": {},
     "execution_count": 212
    }
   ],
   "metadata": {}
  },
  {
   "cell_type": "code",
   "execution_count": 213,
   "source": [
    "to_read[\"overall\"].mean()"
   ],
   "outputs": [
    {
     "output_type": "execute_result",
     "data": {
      "text/plain": [
       "4.012336664885505"
      ]
     },
     "metadata": {},
     "execution_count": 213
    }
   ],
   "metadata": {}
  },
  {
   "cell_type": "code",
   "execution_count": 192,
   "source": [
    "len(to_read)"
   ],
   "outputs": [
    {
     "output_type": "execute_result",
     "data": {
      "text/plain": [
       "7824481"
      ]
     },
     "metadata": {},
     "execution_count": 192
    }
   ],
   "metadata": {}
  },
  {
   "cell_type": "code",
   "execution_count": 183,
   "source": [
    "reader = Reader(rating_scale=(1, 5))\r\n",
    "data = Dataset.load_from_df(to_read, reader)\r\n",
    "svd = SVD(verbose=True, n_epochs=10)\r\n",
    "cross_validate(svd, data, measures=['RMSE', 'MAE'], cv=3, verbose=True)"
   ],
   "outputs": [
    {
     "output_type": "stream",
     "name": "stdout",
     "text": [
      "Processing epoch 0\n",
      "Processing epoch 1\n",
      "Processing epoch 2\n",
      "Processing epoch 3\n",
      "Processing epoch 4\n",
      "Processing epoch 5\n",
      "Processing epoch 6\n",
      "Processing epoch 7\n",
      "Processing epoch 8\n",
      "Processing epoch 9\n",
      "Processing epoch 0\n",
      "Processing epoch 1\n",
      "Processing epoch 2\n",
      "Processing epoch 3\n",
      "Processing epoch 4\n",
      "Processing epoch 5\n",
      "Processing epoch 6\n",
      "Processing epoch 7\n",
      "Processing epoch 8\n",
      "Processing epoch 9\n",
      "Processing epoch 0\n",
      "Processing epoch 1\n",
      "Processing epoch 2\n",
      "Processing epoch 3\n",
      "Processing epoch 4\n",
      "Processing epoch 5\n",
      "Processing epoch 6\n",
      "Processing epoch 7\n",
      "Processing epoch 8\n",
      "Processing epoch 9\n",
      "Evaluating RMSE, MAE of algorithm SVD on 3 split(s).\n",
      "\n",
      "                  Fold 1  Fold 2  Fold 3  Mean    Std     \n",
      "RMSE (testset)    1.3000  1.2984  1.2993  1.2992  0.0006  \n",
      "MAE (testset)     1.0299  1.0290  1.0294  1.0294  0.0004  \n",
      "Fit time          155.05  183.11  156.15  164.77  12.98   \n",
      "Test time         23.85   23.00   22.34   23.06   0.62    \n"
     ]
    },
    {
     "output_type": "execute_result",
     "data": {
      "text/plain": [
       "{'test_rmse': array([1.2999647 , 1.2984109 , 1.29931239]),\n",
       " 'test_mae': array([1.02993693, 1.02895145, 1.02944274]),\n",
       " 'fit_time': (155.04774141311646, 183.11456561088562, 156.14547562599182),\n",
       " 'test_time': (23.847020864486694, 22.995634078979492, 22.343066215515137)}"
      ]
     },
     "metadata": {},
     "execution_count": 183
    }
   ],
   "metadata": {}
  },
  {
   "cell_type": "code",
   "execution_count": 184,
   "source": [
    "trainset = data.build_full_trainset()\r\n",
    "svd.fit(trainset)"
   ],
   "outputs": [
    {
     "output_type": "stream",
     "name": "stdout",
     "text": [
      "Processing epoch 0\n",
      "Processing epoch 1\n",
      "Processing epoch 2\n",
      "Processing epoch 3\n",
      "Processing epoch 4\n",
      "Processing epoch 5\n",
      "Processing epoch 6\n",
      "Processing epoch 7\n",
      "Processing epoch 8\n",
      "Processing epoch 9\n"
     ]
    },
    {
     "output_type": "execute_result",
     "data": {
      "text/plain": [
       "<surprise.prediction_algorithms.matrix_factorization.SVD at 0x26c51479e50>"
      ]
     },
     "metadata": {},
     "execution_count": 184
    }
   ],
   "metadata": {}
  },
  {
   "cell_type": "code",
   "execution_count": 186,
   "source": [
    "svd.predict(uid=\"A2CX7LUOHB2NDG\", iid=\"0511189877\")"
   ],
   "outputs": [
    {
     "output_type": "execute_result",
     "data": {
      "text/plain": [
       "Prediction(uid='A2CX7LUOHB2NDG', iid='0511189877', r_ui=None, est=4.249965762883919, details={'was_impossible': False})"
      ]
     },
     "metadata": {},
     "execution_count": 186
    }
   ],
   "metadata": {}
  },
  {
   "cell_type": "code",
   "execution_count": 225,
   "source": [
    "import itertools \r\n",
    "import random\r\n",
    "\r\n",
    "def predict_review(reviewerID, asin, model):\r\n",
    "    # Predicts the review (on a scale of 1-5) that a user would assign to a specific product\r\n",
    "    \r\n",
    "    prediction = model.predict(uid=reviewerID, iid=asin)\r\n",
    "    return prediction.est\r\n",
    "\r\n",
    "def generate_recommendation(reviewerID, model, data, thres=4.1):    \r\n",
    "    reviewed_product_ids = data[data.reviewerID == reviewerID].reviewerID.values\r\n",
    "    potential_product_ids = data[~data.reviewerID.isin(reviewed_product_ids)].reviewerID.unique()\r\n",
    "    \r\n",
    "    # generate 20 random recommendations with ratings above threshold\r\n",
    "    recommendations = {}\r\n",
    "    random.shuffle(potential_product_ids)\r\n",
    "    for product in potential_product_ids:\r\n",
    "        rating = predict_review(reviewerID, product, model)\r\n",
    "        if rating >= thres and len(recommendations) < 20:\r\n",
    "            recommendations[product] = rating\r\n",
    "    return recommendations"
   ],
   "outputs": [],
   "metadata": {}
  },
  {
   "cell_type": "code",
   "execution_count": 226,
   "source": [
    "# 20 recommendations (83.7s)\r\n",
    "generate_recommendation(\"A2CX7LUOHB2NDG\", svd, to_read)"
   ],
   "outputs": [
    {
     "output_type": "stream",
     "name": "stdout",
     "text": [
      "20\n"
     ]
    },
    {
     "output_type": "execute_result",
     "data": {
      "text/plain": [
       "{'A1PW243B8U6TKZ': 4.117604709678642,\n",
       " 'A3R365UW9V257T': 4.117604709678642,\n",
       " 'ARYE6UPLV0NYM': 4.117604709678642,\n",
       " 'AUX2MG6WKW1IR': 4.117604709678642,\n",
       " 'A27FEMQ0KDJMUI': 4.117604709678642,\n",
       " 'A1YF9NN9TXLYH3': 4.117604709678642,\n",
       " 'A1DW3K2K86J1NM': 4.117604709678642,\n",
       " 'AULWKIIBAZ3KZ': 4.117604709678642,\n",
       " 'A1363GKXPXQWTC': 4.117604709678642,\n",
       " 'A3ANRIHBNZ1IV3': 4.117604709678642,\n",
       " 'A23QNT9CLSAX2L': 4.117604709678642,\n",
       " 'A1KADADX9T884P': 4.117604709678642,\n",
       " 'A3DU7WMN7N986Z': 4.117604709678642,\n",
       " 'A18P74QGZM64TE': 4.117604709678642,\n",
       " 'A2MF93O6MAZDZD': 4.117604709678642,\n",
       " 'ADOZUM051ZZME': 4.117604709678642,\n",
       " 'A1P9Y5ZC1WH9N': 4.117604709678642,\n",
       " 'A1UHXUYPY9CUIM': 4.117604709678642,\n",
       " 'A1LHVPAPRZA9WE': 4.117604709678642,\n",
       " 'A30UFAR0OXNCAQ': 4.117604709678642}"
      ]
     },
     "metadata": {},
     "execution_count": 226
    }
   ],
   "metadata": {}
  },
  {
   "cell_type": "code",
   "execution_count": 221,
   "source": [
    "# 10 recommendations (83.7s)\r\n",
    "generate_recommendation(\"A2CX7LUOHB2NDG\", svd, to_read)"
   ],
   "outputs": [
    {
     "output_type": "stream",
     "name": "stdout",
     "text": [
      "4201695\n",
      "4.117604709678642\n",
      "4.117604709678642\n",
      "4.117604709678642\n",
      "4.117604709678642\n",
      "4.117604709678642\n",
      "4.117604709678642\n",
      "4.117604709678642\n",
      "4.117604709678642\n",
      "4.117604709678642\n",
      "4.117604709678642\n"
     ]
    },
    {
     "output_type": "execute_result",
     "data": {
      "text/plain": [
       "{'A3IIIJZHB5CL22': 4.117604709678642,\n",
       " 'A19YNLWVOE5F45': 4.117604709678642,\n",
       " 'APH4QGN77LGP': 4.117604709678642,\n",
       " 'A1B4VVIME3RU4U': 4.117604709678642,\n",
       " 'A1YLV6J3Z8PH7H': 4.117604709678642,\n",
       " 'AIIE6QT8LKLC0': 4.117604709678642,\n",
       " 'AGG5YP26RE87G': 4.117604709678642,\n",
       " 'A6MOJYXI44V8E': 4.117604709678642,\n",
       " 'A3CR7WLVS8Y9OB': 4.117604709678642,\n",
       " 'A2M8N03CI3VE': 4.117604709678642}"
      ]
     },
     "metadata": {},
     "execution_count": 221
    }
   ],
   "metadata": {}
  },
  {
   "cell_type": "markdown",
   "source": [
    "## Neural network to predict ratings for any individual user - Model based"
   ],
   "metadata": {}
  },
  {
   "cell_type": "code",
   "execution_count": 23,
   "source": [
    "user_ids = review['new_user_id'].values\r\n",
    "product_ids = review['new_product_id'].values\r\n",
    "ratings = review['overall'].values - 2.5"
   ],
   "outputs": [],
   "metadata": {}
  },
  {
   "cell_type": "code",
   "execution_count": 24,
   "source": [
    "# get number of users and number of products\r\n",
    "\r\n",
    "N = len(set(user_ids))\r\n",
    "M = len(set(product_ids))\r\n",
    "\r\n",
    "# set embedding dimension\r\n",
    "D = 10"
   ],
   "outputs": [],
   "metadata": {}
  },
  {
   "cell_type": "code",
   "execution_count": 25,
   "source": [
    "# make a neural network\r\n",
    "\r\n",
    "class Model(nn.Module):\r\n",
    "    def __init__(self, n_users, n_items, embed_dim, n_hidden=1024):\r\n",
    "        super(Model, self).__init__()\r\n",
    "        self.N = n_users\r\n",
    "        self.M = n_items\r\n",
    "        self.D = embed_dim\r\n",
    "\r\n",
    "        self.u_emb = nn.Embedding(self.N, self.D)\r\n",
    "        self.m_emb = nn.Embedding(self.M, self.D)\r\n",
    "        self.fc1 = nn.Linear(2 * self.D, n_hidden)\r\n",
    "        self.fc2 = nn.Linear(n_hidden, 1)\r\n",
    "\r\n",
    "        # set the weights since N(0, 1) leads to poor results\r\n",
    "        np.random.seed(42)\r\n",
    "        self.u_emb.weight.data = nn.Parameter(\r\n",
    "            torch.Tensor(np.random.randn(self.N, self.D) * 0.01))\r\n",
    "        self.m_emb.weight.data = nn.Parameter(\r\n",
    "            torch.Tensor(np.random.randn(self.M, self.D) * 0.01))\r\n",
    "\r\n",
    "    def forward(self, u, m):\r\n",
    "        u = self.u_emb(u) # output is (num_samples, D)\r\n",
    "        m = self.m_emb(m) # output is (num_samples, D)\r\n",
    "\r\n",
    "        # merge\r\n",
    "        out = torch.cat((u,m), 1) # output is (num_samples, 2D)\r\n",
    "\r\n",
    "        # ANN\r\n",
    "        out = self.fc1(out)\r\n",
    "        out = F.relu(out)\r\n",
    "        out = self.fc2(out)\r\n",
    "        return out"
   ],
   "outputs": [],
   "metadata": {}
  },
  {
   "cell_type": "code",
   "execution_count": 26,
   "source": [
    "device = torch.device(\"cuda:0\" if torch.cuda.is_available() else \"cpu\")\r\n",
    "print(device)"
   ],
   "outputs": [
    {
     "output_type": "stream",
     "name": "stdout",
     "text": [
      "cuda:0\n"
     ]
    }
   ],
   "metadata": {}
  },
  {
   "cell_type": "code",
   "execution_count": 27,
   "source": [
    "model = Model(N, M, D)\r\n",
    "model.to(device)"
   ],
   "outputs": [
    {
     "output_type": "execute_result",
     "data": {
      "text/plain": [
       "Model(\n",
       "  (u_emb): Embedding(4201696, 10)\n",
       "  (m_emb): Embedding(476001, 10)\n",
       "  (fc1): Linear(in_features=20, out_features=1024, bias=True)\n",
       "  (fc2): Linear(in_features=1024, out_features=1, bias=True)\n",
       ")"
      ]
     },
     "metadata": {},
     "execution_count": 27
    }
   ],
   "metadata": {}
  },
  {
   "cell_type": "code",
   "execution_count": 28,
   "source": [
    "# loss and optimizer\r\n",
    "\r\n",
    "criterion = nn.MSELoss()\r\n",
    "optimizer = torch.optim.Adam(model.parameters())\r\n",
    "# optimizer = torch.optim.SGD(model.parameters(), lr=0.0001)"
   ],
   "outputs": [],
   "metadata": {}
  },
  {
   "cell_type": "code",
   "execution_count": 29,
   "source": [
    "# function to encapsulate training loop\r\n",
    "def batch_gd(model, criterion, optimizer, train_data, test_data, epochs, bs=256):\r\n",
    "    train_users, train_products, train_ratings = train_data\r\n",
    "    test_users, test_products, test_ratings = test_data\r\n",
    "    \r\n",
    "    train_losses = np.zeros(epochs)\r\n",
    "    test_losses = np.zeros(epochs)\r\n",
    "\r\n",
    "    # batches per epoch\r\n",
    "    Ntrain = len(train_users)\r\n",
    "    batches_per_epoch = int(np.ceil(Ntrain / bs))\r\n",
    "\r\n",
    "    for it in range(epochs):\r\n",
    "        t0 = datetime.now()\r\n",
    "        train_loss = []\r\n",
    "\r\n",
    "        # shuffle each batch\r\n",
    "        train_users, train_products, train_ratings = shuffle(\r\n",
    "            train_users, train_products, train_ratings\r\n",
    "        )\r\n",
    "\r\n",
    "        for j in range(batches_per_epoch):\r\n",
    "            # get the batch\r\n",
    "            users = train_users[j*bs:(j+1)*bs]\r\n",
    "            products = train_products[j*bs:(j+1)*bs]\r\n",
    "            targets = train_ratings[j*bs:(j+1)*bs]\r\n",
    "\r\n",
    "            # convert to tensor\r\n",
    "            users = torch.from_numpy(users).long()\r\n",
    "            products = torch.from_numpy(products).long()\r\n",
    "            targets = torch.from_numpy(targets)\r\n",
    "\r\n",
    "            # reshape targets\r\n",
    "            targets = targets.view(-1, 1).float()\r\n",
    "\r\n",
    "            # move data to GPU\r\n",
    "            users, products, targets = users.to(device), products.to(device), targets.to(device)\r\n",
    "\r\n",
    "            # zero the parameter gradients\r\n",
    "            optimizer.zero_grad()\r\n",
    "\r\n",
    "            # forward pass\r\n",
    "            outputs = model(users, products)\r\n",
    "            loss = criterion(outputs, targets)\r\n",
    "\r\n",
    "            # backward and optimize\r\n",
    "            loss.backward()\r\n",
    "            optimizer.step()\r\n",
    "\r\n",
    "            train_loss.append(loss.item())\r\n",
    "        \r\n",
    "        # get train loss and test loss\r\n",
    "        train_loss = np.mean(train_loss)\r\n",
    "\r\n",
    "        test_loss = []\r\n",
    "        for j in range(int(np.ceil(len(test_users) / bs))):\r\n",
    "            # get batch\r\n",
    "            users = test_users[j*bs:(j+1)*bs]\r\n",
    "            products = test_products[j*bs:(j+1)*bs]\r\n",
    "            targets = test_ratings[j*bs:(j+1)*bs]\r\n",
    "\r\n",
    "            # convert to tensor\r\n",
    "            users = torch.from_numpy(users).long()\r\n",
    "            products = torch.from_numpy(products).long()\r\n",
    "            targets = torch.from_numpy(targets) \r\n",
    "\r\n",
    "            # reshape targets\r\n",
    "            targets = targets.view(-1, 1).float()\r\n",
    "\r\n",
    "             # move data to GPU\r\n",
    "            users, products, targets = users.to(device), products.to(device), targets.to(device)\r\n",
    "\r\n",
    "            outputs = model(users, products)\r\n",
    "            loss = criterion(outputs, targets)\r\n",
    "            test_loss.append(loss.item())\r\n",
    "        test_loss = np.mean(test_loss)\r\n",
    "\r\n",
    "        # save losses\r\n",
    "        train_losses[it] = train_loss\r\n",
    "        test_losses[it] = test_loss\r\n",
    "\r\n",
    "        dt = datetime.now() - t0\r\n",
    "        print(f\"Epoch {it+1}/{epochs}, Train Loss: {train_loss:.4f}, \"\r\n",
    "        f\"Test Loss: {test_loss:.4f}, Duration: {dt}\")\r\n",
    "\r\n",
    "    return train_losses, test_losses\r\n"
   ],
   "outputs": [],
   "metadata": {}
  },
  {
   "cell_type": "code",
   "execution_count": 30,
   "source": [
    "# shuffle data in correspnding order\r\n",
    "\r\n",
    "user_ids, product_ids, ratings = shuffle(user_ids, product_ids, ratings)"
   ],
   "outputs": [],
   "metadata": {}
  },
  {
   "cell_type": "code",
   "execution_count": 31,
   "source": [
    "Ntrain = int(0.8 * len(ratings))\r\n",
    "train_users = user_ids[:Ntrain]\r\n",
    "train_products = product_ids[:Ntrain]\r\n",
    "train_ratings = ratings[:Ntrain]\r\n",
    "\r\n",
    "test_users = user_ids[Ntrain:]\r\n",
    "test_products = product_ids[Ntrain:]\r\n",
    "test_ratings = ratings[Ntrain:]\r\n",
    "\r\n",
    "train_losses, test_losses = batch_gd(\r\n",
    "    model, criterion, optimizer, \r\n",
    "    (train_users, train_products, train_ratings),\r\n",
    "    (test_users, test_products, test_ratings),\r\n",
    "    10\r\n",
    ")"
   ],
   "outputs": [
    {
     "output_type": "stream",
     "name": "stdout",
     "text": [
      "Epoch 1/10, Train Loss: 1.7021, Test Loss: 1.6424, Duration: 0:28:22.810133\n",
      "Epoch 2/10, Train Loss: 0.9144, Test Loss: 1.7381, Duration: 0:20:32.169112\n",
      "Epoch 3/10, Train Loss: 0.6937, Test Loss: 1.8469, Duration: 0:19:54.709733\n",
      "Epoch 4/10, Train Loss: 0.5945, Test Loss: 1.9345, Duration: 0:19:50.341723\n"
     ]
    },
    {
     "output_type": "error",
     "ename": "KeyboardInterrupt",
     "evalue": "",
     "traceback": [
      "\u001b[1;31m---------------------------------------------------------------------------\u001b[0m",
      "\u001b[1;31mKeyboardInterrupt\u001b[0m                         Traceback (most recent call last)",
      "\u001b[1;32m<ipython-input-31-f39177640c63>\u001b[0m in \u001b[0;36m<module>\u001b[1;34m\u001b[0m\n\u001b[0;32m      8\u001b[0m \u001b[0mtest_ratings\u001b[0m \u001b[1;33m=\u001b[0m \u001b[0mratings\u001b[0m\u001b[1;33m[\u001b[0m\u001b[0mNtrain\u001b[0m\u001b[1;33m:\u001b[0m\u001b[1;33m]\u001b[0m\u001b[1;33m\u001b[0m\u001b[1;33m\u001b[0m\u001b[0m\n\u001b[0;32m      9\u001b[0m \u001b[1;33m\u001b[0m\u001b[0m\n\u001b[1;32m---> 10\u001b[1;33m train_losses, test_losses = batch_gd(\n\u001b[0m\u001b[0;32m     11\u001b[0m     \u001b[0mmodel\u001b[0m\u001b[1;33m,\u001b[0m \u001b[0mcriterion\u001b[0m\u001b[1;33m,\u001b[0m \u001b[0moptimizer\u001b[0m\u001b[1;33m,\u001b[0m\u001b[1;33m\u001b[0m\u001b[1;33m\u001b[0m\u001b[0m\n\u001b[0;32m     12\u001b[0m     \u001b[1;33m(\u001b[0m\u001b[0mtrain_users\u001b[0m\u001b[1;33m,\u001b[0m \u001b[0mtrain_products\u001b[0m\u001b[1;33m,\u001b[0m \u001b[0mtrain_ratings\u001b[0m\u001b[1;33m)\u001b[0m\u001b[1;33m,\u001b[0m\u001b[1;33m\u001b[0m\u001b[1;33m\u001b[0m\u001b[0m\n",
      "\u001b[1;32m<ipython-input-29-61d68da8b1eb>\u001b[0m in \u001b[0;36mbatch_gd\u001b[1;34m(model, criterion, optimizer, train_data, test_data, epochs, bs)\u001b[0m\n\u001b[0;32m     48\u001b[0m             \u001b[0moptimizer\u001b[0m\u001b[1;33m.\u001b[0m\u001b[0mstep\u001b[0m\u001b[1;33m(\u001b[0m\u001b[1;33m)\u001b[0m\u001b[1;33m\u001b[0m\u001b[1;33m\u001b[0m\u001b[0m\n\u001b[0;32m     49\u001b[0m \u001b[1;33m\u001b[0m\u001b[0m\n\u001b[1;32m---> 50\u001b[1;33m             \u001b[0mtrain_loss\u001b[0m\u001b[1;33m.\u001b[0m\u001b[0mappend\u001b[0m\u001b[1;33m(\u001b[0m\u001b[0mloss\u001b[0m\u001b[1;33m.\u001b[0m\u001b[0mitem\u001b[0m\u001b[1;33m(\u001b[0m\u001b[1;33m)\u001b[0m\u001b[1;33m)\u001b[0m\u001b[1;33m\u001b[0m\u001b[1;33m\u001b[0m\u001b[0m\n\u001b[0m\u001b[0;32m     51\u001b[0m \u001b[1;33m\u001b[0m\u001b[0m\n\u001b[0;32m     52\u001b[0m         \u001b[1;31m# get train loss and test loss\u001b[0m\u001b[1;33m\u001b[0m\u001b[1;33m\u001b[0m\u001b[1;33m\u001b[0m\u001b[0m\n",
      "\u001b[1;31mKeyboardInterrupt\u001b[0m: "
     ]
    }
   ],
   "metadata": {}
  },
  {
   "cell_type": "code",
   "execution_count": null,
   "source": [
    "# plot train loss and test loss per iteration\r\n",
    "\r\n",
    "plt.plot(train_losses, label=\"train loss\")\r\n",
    "plt.plot(test_losses, label=\"test loss\")\r\n",
    "plt.legend()\r\n",
    "plt.show()"
   ],
   "outputs": [],
   "metadata": {}
  },
  {
   "cell_type": "code",
   "execution_count": null,
   "source": [
    "# find recommendations for user_id = 47640\r\n",
    "\r\n",
    "reviewed_product_ids = review[review.new_user_id == 47640].new_product_id.values\r\n",
    "reviewed_product_ids"
   ],
   "outputs": [],
   "metadata": {}
  },
  {
   "cell_type": "code",
   "execution_count": null,
   "source": [
    "potential_product_ids = review[~review.new_product_id.isin(reviewed_product_ids)].new_product_id.unique()\r\n",
    "potential_product_ids.shape"
   ],
   "outputs": [],
   "metadata": {}
  },
  {
   "cell_type": "code",
   "execution_count": null,
   "source": [
    "user_id_to_recommend = np.full_like(potential_product_ids, 47640)"
   ],
   "outputs": [],
   "metadata": {}
  },
  {
   "cell_type": "code",
   "execution_count": null,
   "source": [
    "# convert to torch tensor\r\n",
    "t_user_ids = torch.from_numpy(user_id_to_recommend).long().to(device)\r\n",
    "t_product_ids = torch.from_numpy(potential_product_ids).long().to(device)\r\n",
    "\r\n",
    "# get predictions\r\n",
    "with torch.no_grad():\r\n",
    "    predictions = model(t_user_ids, t_product_ids)"
   ],
   "outputs": [],
   "metadata": {}
  },
  {
   "cell_type": "code",
   "execution_count": null,
   "source": [
    "predictions_np = predictions.cpu().numpy().flatten()\r\n",
    "\r\n",
    "# get sort index for predictions\r\n",
    "sort_idx = np.argsort(-predictions_np)"
   ],
   "outputs": [],
   "metadata": {}
  },
  {
   "cell_type": "code",
   "execution_count": null,
   "source": [
    "predictions_np"
   ],
   "outputs": [],
   "metadata": {}
  },
  {
   "cell_type": "code",
   "execution_count": null,
   "source": [
    "sort_idx"
   ],
   "outputs": [],
   "metadata": {}
  },
  {
   "cell_type": "code",
   "execution_count": null,
   "source": [
    "# top 10 predictions\r\n",
    "top_10_product_ids = potential_product_ids[sort_idx[:10]]\r\n",
    "top_10_scores = predictions_np[sort_idx[:10]]\r\n",
    "\r\n",
    "for product, score in zip(top_10_product_ids, top_10_scores):\r\n",
    "    print(\"product:\", product, \"score:\", score)"
   ],
   "outputs": [],
   "metadata": {}
  }
 ],
 "metadata": {
  "orig_nbformat": 4,
  "language_info": {
   "name": "python"
  }
 },
 "nbformat": 4,
 "nbformat_minor": 2
}