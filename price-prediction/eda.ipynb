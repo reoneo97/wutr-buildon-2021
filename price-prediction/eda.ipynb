{
 "metadata": {
  "language_info": {
   "codemirror_mode": {
    "name": "ipython",
    "version": 3
   },
   "file_extension": ".py",
   "mimetype": "text/x-python",
   "name": "python",
   "nbconvert_exporter": "python",
   "pygments_lexer": "ipython3",
   "version": "3.9.5"
  },
  "orig_nbformat": 4,
  "kernelspec": {
   "name": "python3",
   "display_name": "Python 3.9.5 64-bit ('pytorch39': conda)"
  },
  "interpreter": {
   "hash": "ae6cb736db322a7e5b5dd7daf0bf0f9a9670115917e8b0bb381fef1697396fac"
  }
 },
 "nbformat": 4,
 "nbformat_minor": 2,
 "cells": [
  {
   "cell_type": "code",
   "execution_count": 1,
   "metadata": {},
   "outputs": [],
   "source": [
    "import pandas as pd\n",
    "import matplotlib.pyplot as plt"
   ]
  },
  {
   "cell_type": "code",
   "execution_count": 2,
   "metadata": {},
   "outputs": [],
   "source": [
    "df = pd.read_csv(\"data/processed_combined_products.csv\")"
   ]
  },
  {
   "cell_type": "code",
   "execution_count": 12,
   "metadata": {},
   "outputs": [
    {
     "output_type": "execute_result",
     "data": {
      "text/plain": [
       "       Unnamed: 0                                id  \\\n",
       "0               0  4c69b61db1fc16e7013b43fc926e502d   \n",
       "1               1  66d49bbed043f5be260fa9f7fbff5957   \n",
       "2               2  2c55cae269aebf53838484b0d7dd931a   \n",
       "3               3  18018b6bc416dab347b1b7db79994afa   \n",
       "4               4  e04b990e95bf73bbe6a3fa09785d7cd0   \n",
       "...           ...                               ...   \n",
       "10669       17052              AVpirqtQilAPnD_xGjJb   \n",
       "10670       17060              AVpfSIe2ilAPnD_xYy87   \n",
       "10671       17062              AVpggdNaLJeJML43O2qK   \n",
       "10672       17070              AWFFBU8JIwln0LfXiLtO   \n",
       "10673       17077              AVpfUsrxLJeJML437Ezd   \n",
       "\n",
       "                                                    name           category  \\\n",
       "0      DB Longboards CoreFlex Crossbow 41\" Bamboo Fib...  Sports & Outdoors   \n",
       "1      Electronic Snap Circuits Mini Kits Classpack, ...       Toys & Games   \n",
       "2      3Doodler Create Flexy 3D Printing Filament Ref...       Toys & Games   \n",
       "3      Guillow Airplane Design Studio with Travel Cas...       Toys & Games   \n",
       "4                       Woodstock- Collage 500 pc Puzzle       Toys & Games   \n",
       "...                                                  ...                ...   \n",
       "10669  Details About Skybell Hd Wifi 1080p Video Door...        Electronics   \n",
       "10670  AudioQuest - Chocolate 16.5' 4K Ultra HD In-Wa...        Electronics   \n",
       "10671  V-MODA - Crossfade Wireless Headphones - Gunme...        Electronics   \n",
       "10672  Details About New Logitech G230 981000541 Headset        Electronics   \n",
       "10673  Lowepro - Slingshot Edge 250 AW Camera Backpac...        Electronics   \n",
       "\n",
       "        price                                                url  \n",
       "0      237.60  https://www.amazon.com/DB-Longboards-CoreFlex-...  \n",
       "1       99.95  https://www.amazon.com/Electronic-Circuits-Cla...  \n",
       "2       34.99  https://www.amazon.com/3Doodler-Plastic-Innova...  \n",
       "3       28.91  https://www.amazon.com/Guillow-Airplane-Design...  \n",
       "4       17.49  https://www.amazon.com/Woodstock-Collage-500-p...  \n",
       "...       ...                                                ...  \n",
       "10669  191.37  http://www.ebay.com/itm/SkyBell-HD-Bronze-WiFi...  \n",
       "10670  289.98  https://reviews.bestbuy.com/3545/9514046/revie...  \n",
       "10671  218.99  http://www.bhphotovideo.com/c/product/1197440-...  \n",
       "10672   45.09  https://reviews.bestbuy.com/3545/8785701/revie...  \n",
       "10673   72.50  http://www.frys.com/product/8595219,https://re...  \n",
       "\n",
       "[10674 rows x 6 columns]"
      ],
      "text/html": "<div>\n<style scoped>\n    .dataframe tbody tr th:only-of-type {\n        vertical-align: middle;\n    }\n\n    .dataframe tbody tr th {\n        vertical-align: top;\n    }\n\n    .dataframe thead th {\n        text-align: right;\n    }\n</style>\n<table border=\"1\" class=\"dataframe\">\n  <thead>\n    <tr style=\"text-align: right;\">\n      <th></th>\n      <th>Unnamed: 0</th>\n      <th>id</th>\n      <th>name</th>\n      <th>category</th>\n      <th>price</th>\n      <th>url</th>\n    </tr>\n  </thead>\n  <tbody>\n    <tr>\n      <th>0</th>\n      <td>0</td>\n      <td>4c69b61db1fc16e7013b43fc926e502d</td>\n      <td>DB Longboards CoreFlex Crossbow 41\" Bamboo Fib...</td>\n      <td>Sports &amp; Outdoors</td>\n      <td>237.60</td>\n      <td>https://www.amazon.com/DB-Longboards-CoreFlex-...</td>\n    </tr>\n    <tr>\n      <th>1</th>\n      <td>1</td>\n      <td>66d49bbed043f5be260fa9f7fbff5957</td>\n      <td>Electronic Snap Circuits Mini Kits Classpack, ...</td>\n      <td>Toys &amp; Games</td>\n      <td>99.95</td>\n      <td>https://www.amazon.com/Electronic-Circuits-Cla...</td>\n    </tr>\n    <tr>\n      <th>2</th>\n      <td>2</td>\n      <td>2c55cae269aebf53838484b0d7dd931a</td>\n      <td>3Doodler Create Flexy 3D Printing Filament Ref...</td>\n      <td>Toys &amp; Games</td>\n      <td>34.99</td>\n      <td>https://www.amazon.com/3Doodler-Plastic-Innova...</td>\n    </tr>\n    <tr>\n      <th>3</th>\n      <td>3</td>\n      <td>18018b6bc416dab347b1b7db79994afa</td>\n      <td>Guillow Airplane Design Studio with Travel Cas...</td>\n      <td>Toys &amp; Games</td>\n      <td>28.91</td>\n      <td>https://www.amazon.com/Guillow-Airplane-Design...</td>\n    </tr>\n    <tr>\n      <th>4</th>\n      <td>4</td>\n      <td>e04b990e95bf73bbe6a3fa09785d7cd0</td>\n      <td>Woodstock- Collage 500 pc Puzzle</td>\n      <td>Toys &amp; Games</td>\n      <td>17.49</td>\n      <td>https://www.amazon.com/Woodstock-Collage-500-p...</td>\n    </tr>\n    <tr>\n      <th>...</th>\n      <td>...</td>\n      <td>...</td>\n      <td>...</td>\n      <td>...</td>\n      <td>...</td>\n      <td>...</td>\n    </tr>\n    <tr>\n      <th>10669</th>\n      <td>17052</td>\n      <td>AVpirqtQilAPnD_xGjJb</td>\n      <td>Details About Skybell Hd Wifi 1080p Video Door...</td>\n      <td>Electronics</td>\n      <td>191.37</td>\n      <td>http://www.ebay.com/itm/SkyBell-HD-Bronze-WiFi...</td>\n    </tr>\n    <tr>\n      <th>10670</th>\n      <td>17060</td>\n      <td>AVpfSIe2ilAPnD_xYy87</td>\n      <td>AudioQuest - Chocolate 16.5' 4K Ultra HD In-Wa...</td>\n      <td>Electronics</td>\n      <td>289.98</td>\n      <td>https://reviews.bestbuy.com/3545/9514046/revie...</td>\n    </tr>\n    <tr>\n      <th>10671</th>\n      <td>17062</td>\n      <td>AVpggdNaLJeJML43O2qK</td>\n      <td>V-MODA - Crossfade Wireless Headphones - Gunme...</td>\n      <td>Electronics</td>\n      <td>218.99</td>\n      <td>http://www.bhphotovideo.com/c/product/1197440-...</td>\n    </tr>\n    <tr>\n      <th>10672</th>\n      <td>17070</td>\n      <td>AWFFBU8JIwln0LfXiLtO</td>\n      <td>Details About New Logitech G230 981000541 Headset</td>\n      <td>Electronics</td>\n      <td>45.09</td>\n      <td>https://reviews.bestbuy.com/3545/8785701/revie...</td>\n    </tr>\n    <tr>\n      <th>10673</th>\n      <td>17077</td>\n      <td>AVpfUsrxLJeJML437Ezd</td>\n      <td>Lowepro - Slingshot Edge 250 AW Camera Backpac...</td>\n      <td>Electronics</td>\n      <td>72.50</td>\n      <td>http://www.frys.com/product/8595219,https://re...</td>\n    </tr>\n  </tbody>\n</table>\n<p>10674 rows × 6 columns</p>\n</div>"
     },
     "metadata": {},
     "execution_count": 12
    }
   ],
   "source": [
    "df"
   ]
  },
  {
   "cell_type": "code",
   "execution_count": 13,
   "metadata": {},
   "outputs": [],
   "source": [
    "ele_df = df[df[\"category\"]==\"Electronics\"]"
   ]
  },
  {
   "cell_type": "code",
   "execution_count": 8,
   "metadata": {},
   "outputs": [
    {
     "output_type": "stream",
     "name": "stdout",
     "text": [
      " midland wr120c noaa weather alert radio\n",
      " samsung 24 class hd (720p) smart led tv (un24m4500)\"\n",
      " netgear nighthawk a7000 (ac1900) dualband wifi usb adapter\n",
      " aiwa exos9 portable bluetooth speaker\n",
      " netgear 16 x 4 docsis 3.0 cable modem black\n",
      " razer blade laptop 14 full hd (i77700hq\"\n",
      " anker powercore 20000 qc 3.0 black a1272h11\n",
      " samsung gear fit2 pro fitness smartwatch red\n",
      " logitech g403 prodigy wireless gaming mouse\n",
      " sony kd70x690e 70inch 4k ultra hd smart led tv (2017 model)\n",
      " optoma hd142x full hd 10980p 3d dlp home theater projector\n",
      " alpine 400w 5.25 typee coaxial 2way car speakers | spe5000\"\n",
      " netgear cm700 docsis 3.0 32x8 high speed cable modem\n",
      " skybell hd wifi 1080p video doorbell bronze (sh02300bz)\n",
      " new logitech g230 981000541 headset\n",
      "<ipython-input-8-810c2e262cf7>:1: SettingWithCopyWarning: \n",
      "A value is trying to be set on a copy of a slice from a DataFrame.\n",
      "Try using .loc[row_indexer,col_indexer] = value instead\n",
      "\n",
      "See the caveats in the documentation: https://pandas.pydata.org/pandas-docs/stable/user_guide/indexing.html#returning-a-view-versus-a-copy\n",
      "  ele_df[\"name\"] = ele_df[\"name\"].apply(lambda x:x.lower())\n"
     ]
    }
   ],
   "source": [
    "ele_df[\"name\"] = ele_df[\"name\"].apply(lambda x:x.lower())\n",
    "ele_df = ele_df[ele_df[\"name\"].apply(len) <= 75]\n",
    "cleaned = []\n",
    "\n",
    "ele_names = ele_df[\"name\"].tolist()\n",
    "for name in ele_names:\n",
    "    if name.find(\"details about \") != -1:\n",
    "        cleaned.append(name[13:])\n",
    "        print(name[13:])\n",
    "    else:\n",
    "        cleaned.append(name)\n",
    "ele_names = cleaned[:]"
   ]
  },
  {
   "cell_type": "code",
   "execution_count": 10,
   "metadata": {},
   "outputs": [],
   "source": [
    "ele_df.to_csv(\"data/electronics_products.csv\")"
   ]
  },
  {
   "cell_type": "code",
   "execution_count": 16,
   "metadata": {},
   "outputs": [
    {
     "output_type": "stream",
     "name": "stdout",
     "text": [
      "nerf pocket camcorder - yellow (38056)\n"
     ]
    }
   ],
   "source": [
    "comp_df = []\n",
    "blacklist_terms = set([\"kid\",\"educational\",\"kid-tough\",\"nerf\"])\n",
    "for i,n1 in enumerate(ele_names):\n",
    "    if set(n1.split()).intersection(blacklist_terms):\n",
    "        print(n1)\n",
    "        continue\n",
    "    for n2 in ele_names[i+1:]:\n",
    "        if set(n2.split()).intersection(blacklist_terms):\n",
    "            continue  \n",
    "        comp_df.append({\"product1\":n1,\"product2\":n2})\n",
    "comp_df = pd.DataFrame.from_dict(comp_df)\n",
    "# comp_df.to_csv(\"compare.csv\")"
   ]
  },
  {
   "cell_type": "code",
   "execution_count": 17,
   "metadata": {},
   "outputs": [
    {
     "output_type": "execute_result",
     "data": {
      "text/plain": [
       "                                                 product1  \\\n",
       "0              celestron 44320 microscope digital kit mdk   \n",
       "1              celestron 44320 microscope digital kit mdk   \n",
       "2              celestron 44320 microscope digital kit mdk   \n",
       "3              celestron 44320 microscope digital kit mdk   \n",
       "4              celestron 44320 microscope digital kit mdk   \n",
       "...                                                   ...   \n",
       "190031  audioquest - chocolate 16.5' 4k ultra hd in-wa...   \n",
       "190032  audioquest - chocolate 16.5' 4k ultra hd in-wa...   \n",
       "190033  v-moda - crossfade wireless headphones - gunme...   \n",
       "190034  v-moda - crossfade wireless headphones - gunme...   \n",
       "190035                new logitech g230 981000541 headset   \n",
       "\n",
       "                                                 product2  \n",
       "0       sanus vlf410b1 10-inch super slim full-motion ...  \n",
       "1       boytone - 2500w 2.1-ch. home theater system - ...  \n",
       "2       dreamwave - tremor portable bluetooth speaker ...  \n",
       "3       ns-sp1800bl 5.1-channel home theater system (b...  \n",
       "4       universal remote control - 48-device universal...  \n",
       "...                                                   ...  \n",
       "190031                new logitech g230 981000541 headset  \n",
       "190032  lowepro - slingshot edge 250 aw camera backpac...  \n",
       "190033                new logitech g230 981000541 headset  \n",
       "190034  lowepro - slingshot edge 250 aw camera backpac...  \n",
       "190035  lowepro - slingshot edge 250 aw camera backpac...  \n",
       "\n",
       "[190036 rows x 2 columns]"
      ],
      "text/html": "<div>\n<style scoped>\n    .dataframe tbody tr th:only-of-type {\n        vertical-align: middle;\n    }\n\n    .dataframe tbody tr th {\n        vertical-align: top;\n    }\n\n    .dataframe thead th {\n        text-align: right;\n    }\n</style>\n<table border=\"1\" class=\"dataframe\">\n  <thead>\n    <tr style=\"text-align: right;\">\n      <th></th>\n      <th>product1</th>\n      <th>product2</th>\n    </tr>\n  </thead>\n  <tbody>\n    <tr>\n      <th>0</th>\n      <td>celestron 44320 microscope digital kit mdk</td>\n      <td>sanus vlf410b1 10-inch super slim full-motion ...</td>\n    </tr>\n    <tr>\n      <th>1</th>\n      <td>celestron 44320 microscope digital kit mdk</td>\n      <td>boytone - 2500w 2.1-ch. home theater system - ...</td>\n    </tr>\n    <tr>\n      <th>2</th>\n      <td>celestron 44320 microscope digital kit mdk</td>\n      <td>dreamwave - tremor portable bluetooth speaker ...</td>\n    </tr>\n    <tr>\n      <th>3</th>\n      <td>celestron 44320 microscope digital kit mdk</td>\n      <td>ns-sp1800bl 5.1-channel home theater system (b...</td>\n    </tr>\n    <tr>\n      <th>4</th>\n      <td>celestron 44320 microscope digital kit mdk</td>\n      <td>universal remote control - 48-device universal...</td>\n    </tr>\n    <tr>\n      <th>...</th>\n      <td>...</td>\n      <td>...</td>\n    </tr>\n    <tr>\n      <th>190031</th>\n      <td>audioquest - chocolate 16.5' 4k ultra hd in-wa...</td>\n      <td>new logitech g230 981000541 headset</td>\n    </tr>\n    <tr>\n      <th>190032</th>\n      <td>audioquest - chocolate 16.5' 4k ultra hd in-wa...</td>\n      <td>lowepro - slingshot edge 250 aw camera backpac...</td>\n    </tr>\n    <tr>\n      <th>190033</th>\n      <td>v-moda - crossfade wireless headphones - gunme...</td>\n      <td>new logitech g230 981000541 headset</td>\n    </tr>\n    <tr>\n      <th>190034</th>\n      <td>v-moda - crossfade wireless headphones - gunme...</td>\n      <td>lowepro - slingshot edge 250 aw camera backpac...</td>\n    </tr>\n    <tr>\n      <th>190035</th>\n      <td>new logitech g230 981000541 headset</td>\n      <td>lowepro - slingshot edge 250 aw camera backpac...</td>\n    </tr>\n  </tbody>\n</table>\n<p>190036 rows × 2 columns</p>\n</div>"
     },
     "metadata": {},
     "execution_count": 17
    }
   ],
   "source": [
    "comp_df"
   ]
  },
  {
   "cell_type": "code",
   "execution_count": 18,
   "metadata": {},
   "outputs": [],
   "source": [
    "comp_df.to_csv(\"data/compare.csv\")"
   ]
  },
  {
   "cell_type": "code",
   "execution_count": 19,
   "metadata": {},
   "outputs": [],
   "source": [
    "comp_df.sample(7500).to_csv(\"data/compare_sample.csv\")\n"
   ]
  },
  {
   "cell_type": "code",
   "execution_count": 20,
   "metadata": {},
   "outputs": [],
   "source": [
    "from sentence_transformers import SentenceTransformer,util\n",
    "import random\n",
    "model = SentenceTransformer('stsb-mpnet-base-v2')"
   ]
  },
  {
   "cell_type": "code",
   "execution_count": 23,
   "metadata": {},
   "outputs": [],
   "source": []
  },
  {
   "cell_type": "code",
   "execution_count": 47,
   "metadata": {},
   "outputs": [
    {
     "output_type": "stream",
     "name": "stdout",
     "text": [
      "xb550ap extra bass headphones (black) \t xb550ap extra bass headphones (black) \t Score: 1.0000\nsamsung 55 class 4k (2160p) smart led tv (un55ku7000)\" \t samsung 55 class 4k (2160p) smart led tv \t Score: 0.9633\nsony 43 class 4k uhd (2160p) smart led tv (xbr43x800e)\" \t samsung 55 class 4k (2160p) smart led tv \t Score: 0.7695\nyamaha rx-v479bl 5.1-channel av receiver (black) \t yamaha rx-v383bl 5.1-channel 4k ultra hd av receiver with bluetooth \t Score: 0.7633\nsony 43 class 4k uhd (2160p) smart led tv (xbr43x800e)\" \t samsung 55 class 4k (2160p) smart led tv (un55ku7000)\" \t Score: 0.7485\nsony 43 class 4k uhd (2160p) smart led tv (xbr43x800e)\" \t  sony kd70x690e 70inch 4k ultra hd smart led tv (2017 model) \t Score: 0.7398\npylehome - lcd projector - silver/white \t epson - home cinema 2045 lcd projector - white \t Score: 0.7160\nxb550ap extra bass headphones (black) \t sony - wf 1000x true wireless in-ear noise canceling headphones - black \t Score: 0.7151\nsony - wf 1000x true wireless in-ear noise canceling headphones - black \t xb550ap extra bass headphones (black) \t Score: 0.7151\n sony kd70x690e 70inch 4k ultra hd smart led tv (2017 model) \t samsung 55 class 4k (2160p) smart led tv \t Score: 0.7109\n sony kd70x690e 70inch 4k ultra hd smart led tv (2017 model) \t samsung 55 class 4k (2160p) smart led tv (un55ku7000)\" \t Score: 0.7064\ngrace digital - 3play bluetooth audio adapter - black \t mcr-b043 30w bluetooth wireless music system (black) \t Score: 0.6991\nyamaha - 6-1/2 2-way in-ceiling speakers (pair) - white\" \t polk audio - vanishing series rt 7 3-way in-ceiling speaker (each) - white\" \t Score: 0.6975\njbl everest 750 over-ear wireless bluetooth headphones (gun metal) \t xb550ap extra bass headphones (black) \t Score: 0.6334\njbl everest 750 over-ear wireless bluetooth headphones (gun metal) \t xb550ap extra bass headphones (black) \t Score: 0.6334\naudioquest - black lab 26.2' in-wall subwoofer cable - black/white \t yamaha - 6-1/2 2-way in-ceiling speakers (pair) - white\" \t Score: 0.6260\ngrace digital - 3play bluetooth audio adapter - black \t planet audio - 6.2 - bluetooth - in-dash dvd receiver - black\" \t Score: 0.6253\nyamaha - 30w desktop audio system - brick \t mcr-b043 30w bluetooth wireless music system (black) \t Score: 0.6246\n alpine 400w 5.25 typee coaxial 2way car speakers | spe5000\" \t klipsch aw-4i in-ear headphones \t Score: 0.6241\nsennheiser - cx 3.00 earbud headphones - red \t h.ear go wireless speaker (cinnabar red) \t Score: 0.6241\nplanet audio - 6.2 - bluetooth - in-dash dvd receiver - black\" \t mcr-b043 30w bluetooth wireless music system (black) \t Score: 0.6241\nyamaha rx-v383bl 5.1-channel 4k ultra hd av receiver with bluetooth \t rs 195 digital wireless headphone system \t Score: 0.6155\nsony 43 class 4k uhd (2160p) smart led tv (xbr43x800e)\" \t oc100t tilt mount for 23 to 42 tvs (black) \t Score: 0.6141\nboytone - portable bluetooth speaker - blue \t h.ear go wireless speaker (cinnabar red) \t Score: 0.6114\nyamaha rx-v383bl 5.1-channel 4k ultra hd av receiver with bluetooth \t yamaha - 30w desktop audio system - brick \t Score: 0.5997\n"
     ]
    }
   ],
   "source": [
    "# sentences = random.sample(ele_names,50)\n",
    "\n",
    "embeddings = model.encode(sentences, convert_to_tensor=True)\n",
    "\n",
    "#Compute cosine-similarities for each sentence with each other sentence\n",
    "cosine_scores = util.pytorch_cos_sim(embeddings, embeddings)\n",
    "\n",
    "#Find the pairs with the highest cosine similarity scores\n",
    "pairs = []\n",
    "for i in range(len(cosine_scores)-1):\n",
    "    for j in range(i+1, len(cosine_scores)):\n",
    "        pairs.append({'index': [i, j], 'score': cosine_scores[i][j]})\n",
    "\n",
    "#Sort scores in decreasing order\n",
    "pairs = sorted(pairs, key=lambda x: x['score'], reverse=True)\n",
    "\n",
    "for pair in pairs[0:25]:\n",
    "    i, j = pair['index']\n",
    "    print(\"{} \\t {} \\t Score: {:.4f}\".format(sentences[i], sentences[j], pair['score']))"
   ]
  },
  {
   "cell_type": "code",
   "execution_count": 42,
   "metadata": {},
   "outputs": [
    {
     "output_type": "execute_result",
     "data": {
      "text/plain": [
       "torch.Size([50, 768])"
      ]
     },
     "metadata": {},
     "execution_count": 42
    }
   ],
   "source": [
    "embeddings.shape"
   ]
  },
  {
   "cell_type": "code",
   "execution_count": 46,
   "metadata": {},
   "outputs": [],
   "source": [
    "sentences.append(\"samsung 55 class 4k (2160p) smart led tv\")"
   ]
  },
  {
   "cell_type": "code",
   "execution_count": null,
   "metadata": {},
   "outputs": [],
   "source": [
    "# df\n",
    "# Converting from array to separate columns  \n",
    "vec_size = 768\n",
    "vec_cols = [\"vec-\"+str(i) for i in range(vec_size)]\n",
    "df[[vec_cols]] = pd.DataFrame(df[\"vec\"].tolist(),index= df.index)\n",
    "\n",
    "\n",
    "# Convert back from split cols to full array\n",
    "def cols_to_arr(row):\n",
    "    vec_data = row[vec_cols]\n",
    "\n",
    "\n"
   ]
  }
 ]
}